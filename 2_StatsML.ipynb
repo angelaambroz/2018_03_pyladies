{
 "cells": [
  {
   "cell_type": "markdown",
   "metadata": {},
   "source": [
    "# To the model! 🎉\n",
    "\n",
    "After exploring your data and cleaning it up, it's time to start making some models. Specifically, you may be interested in seeing whether those patterns you detected actually mean something - whether there's any correlation, and whether you can predict what's going on.\n",
    "\n",
    "## Glorious tools\n",
    "\n",
    "In general, I use the following libraries for the following methods:\n",
    "- **Frequentist inferential statistics**: [`statsmodels`](https://www.statsmodels.org/stable/index.html) - e.g. t-tests, ANOVA, linear/logistic regression, regularized regression, generalized linear models\n",
    "- **Bayesian inferential statistics**:\n",
    "    - _If you're using conjugate priors_: [`scipy`](https://www.scipy.org/) - e.g. beta-binomial model, Dirichlet\n",
    "    - _If you're not_: [`pymc3`](http://docs.pymc.io/) - e.g. any MCMC sampling\n",
    "- **Machine learning**: [`scikit-learn`](http://scikit-learn.org/stable/) - e.g. support vector machines, decision trees/random forests, k-nearest neighbors, clustering\n",
    "- **Deep learning**: [`keras`](https://keras.io/) - e.g. convolutional neural nets    \n",
    "    \n",
    "Of course, there's overlap and redundancy in the above tools. For example, both `statsmodels` and `scikit-learn` have methods for linear and logistic regression. Furthermore, you can actually build _everything_ from scratch in [`numpy`](http://www.numpy.org/) - that is, in Python's linear algebra library. In the beginning, you may want to get started with something like `scikit-learn` because it has (a) [great tutorials](http://scikit-learn.org/stable/tutorial/index.html), (b) intuitive syntax, and (b) almost all the commonly-used methods.\n",
    "\n",
    "In fact, I'll use one of `scikit-learn`'s excellent learning datasets (since I know it's well-behaved and will actually have results!): [the diabetes dataset](http://scikit-learn.org/stable/modules/generated/sklearn.datasets.load_diabetes.html#sklearn.datasets.load_diabetes)."
   ]
  },
  {
   "cell_type": "code",
   "execution_count": 1,
   "metadata": {},
   "outputs": [],
   "source": [
    "from sklearn import datasets"
   ]
  },
  {
   "cell_type": "code",
   "execution_count": 5,
   "metadata": {},
   "outputs": [
    {
     "data": {
      "text/plain": [
       "array([[ 0.03807591,  0.05068012,  0.06169621,  0.02187235, -0.0442235 ,\n",
       "        -0.03482076, -0.04340085, -0.00259226,  0.01990842, -0.01764613]])"
      ]
     },
     "execution_count": 5,
     "metadata": {},
     "output_type": "execute_result"
    }
   ],
   "source": [
    "# sklearn datasets are returned as tuples or dictionaries of the 'data' (the independent variables, the features) \n",
    "# and the 'target' (the dependent variable, the thing you want to predict)\n",
    "X, y = datasets.load_diabetes(return_X_y=True)\n",
    "\n",
    "# They are returned as numpy arrays, rather than pandas dataframes\n",
    "X[:1]"
   ]
  },
  {
   "cell_type": "code",
   "execution_count": 10,
   "metadata": {},
   "outputs": [
    {
     "name": "stdout",
     "output_type": "stream",
     "text": [
      "(442, 10)\n"
     ]
    },
    {
     "data": {
      "text/html": [
       "<div>\n",
       "<style scoped>\n",
       "    .dataframe tbody tr th:only-of-type {\n",
       "        vertical-align: middle;\n",
       "    }\n",
       "\n",
       "    .dataframe tbody tr th {\n",
       "        vertical-align: top;\n",
       "    }\n",
       "\n",
       "    .dataframe thead th {\n",
       "        text-align: right;\n",
       "    }\n",
       "</style>\n",
       "<table border=\"1\" class=\"dataframe\">\n",
       "  <thead>\n",
       "    <tr style=\"text-align: right;\">\n",
       "      <th></th>\n",
       "      <th>0</th>\n",
       "      <th>1</th>\n",
       "      <th>2</th>\n",
       "      <th>3</th>\n",
       "      <th>4</th>\n",
       "      <th>5</th>\n",
       "      <th>6</th>\n",
       "      <th>7</th>\n",
       "      <th>8</th>\n",
       "      <th>9</th>\n",
       "    </tr>\n",
       "  </thead>\n",
       "  <tbody>\n",
       "    <tr>\n",
       "      <th>0</th>\n",
       "      <td>0.038076</td>\n",
       "      <td>0.050680</td>\n",
       "      <td>0.061696</td>\n",
       "      <td>0.021872</td>\n",
       "      <td>-0.044223</td>\n",
       "      <td>-0.034821</td>\n",
       "      <td>-0.043401</td>\n",
       "      <td>-0.002592</td>\n",
       "      <td>0.019908</td>\n",
       "      <td>-0.017646</td>\n",
       "    </tr>\n",
       "    <tr>\n",
       "      <th>1</th>\n",
       "      <td>-0.001882</td>\n",
       "      <td>-0.044642</td>\n",
       "      <td>-0.051474</td>\n",
       "      <td>-0.026328</td>\n",
       "      <td>-0.008449</td>\n",
       "      <td>-0.019163</td>\n",
       "      <td>0.074412</td>\n",
       "      <td>-0.039493</td>\n",
       "      <td>-0.068330</td>\n",
       "      <td>-0.092204</td>\n",
       "    </tr>\n",
       "    <tr>\n",
       "      <th>2</th>\n",
       "      <td>0.085299</td>\n",
       "      <td>0.050680</td>\n",
       "      <td>0.044451</td>\n",
       "      <td>-0.005671</td>\n",
       "      <td>-0.045599</td>\n",
       "      <td>-0.034194</td>\n",
       "      <td>-0.032356</td>\n",
       "      <td>-0.002592</td>\n",
       "      <td>0.002864</td>\n",
       "      <td>-0.025930</td>\n",
       "    </tr>\n",
       "    <tr>\n",
       "      <th>3</th>\n",
       "      <td>-0.089063</td>\n",
       "      <td>-0.044642</td>\n",
       "      <td>-0.011595</td>\n",
       "      <td>-0.036656</td>\n",
       "      <td>0.012191</td>\n",
       "      <td>0.024991</td>\n",
       "      <td>-0.036038</td>\n",
       "      <td>0.034309</td>\n",
       "      <td>0.022692</td>\n",
       "      <td>-0.009362</td>\n",
       "    </tr>\n",
       "    <tr>\n",
       "      <th>4</th>\n",
       "      <td>0.005383</td>\n",
       "      <td>-0.044642</td>\n",
       "      <td>-0.036385</td>\n",
       "      <td>0.021872</td>\n",
       "      <td>0.003935</td>\n",
       "      <td>0.015596</td>\n",
       "      <td>0.008142</td>\n",
       "      <td>-0.002592</td>\n",
       "      <td>-0.031991</td>\n",
       "      <td>-0.046641</td>\n",
       "    </tr>\n",
       "  </tbody>\n",
       "</table>\n",
       "</div>"
      ],
      "text/plain": [
       "          0         1         2         3         4         5         6  \\\n",
       "0  0.038076  0.050680  0.061696  0.021872 -0.044223 -0.034821 -0.043401   \n",
       "1 -0.001882 -0.044642 -0.051474 -0.026328 -0.008449 -0.019163  0.074412   \n",
       "2  0.085299  0.050680  0.044451 -0.005671 -0.045599 -0.034194 -0.032356   \n",
       "3 -0.089063 -0.044642 -0.011595 -0.036656  0.012191  0.024991 -0.036038   \n",
       "4  0.005383 -0.044642 -0.036385  0.021872  0.003935  0.015596  0.008142   \n",
       "\n",
       "          7         8         9  \n",
       "0 -0.002592  0.019908 -0.017646  \n",
       "1 -0.039493 -0.068330 -0.092204  \n",
       "2 -0.002592  0.002864 -0.025930  \n",
       "3  0.034309  0.022692 -0.009362  \n",
       "4 -0.002592 -0.031991 -0.046641  "
      ]
     },
     "execution_count": 10,
     "metadata": {},
     "output_type": "execute_result"
    }
   ],
   "source": [
    "import pandas as pd\n",
    "\n",
    "# But it's easy to convert them to pandas dataframes, if you prefer\n",
    "X_df = pd.DataFrame(X)\n",
    "print(X_df.shape)\n",
    "X_df.head()"
   ]
  },
  {
   "cell_type": "code",
   "execution_count": 13,
   "metadata": {},
   "outputs": [
    {
     "data": {
      "text/plain": [
       "array([151.,  75., 141., 206., 135.,  97.])"
      ]
     },
     "execution_count": 13,
     "metadata": {},
     "output_type": "execute_result"
    }
   ],
   "source": [
    "# Our y variable - as a numpy array...\n",
    "y[:6]"
   ]
  },
  {
   "cell_type": "code",
   "execution_count": 14,
   "metadata": {},
   "outputs": [
    {
     "name": "stdout",
     "output_type": "stream",
     "text": [
      "(442,)\n"
     ]
    },
    {
     "data": {
      "text/plain": [
       "0    151.0\n",
       "1     75.0\n",
       "2    141.0\n",
       "3    206.0\n",
       "4    135.0\n",
       "dtype: float64"
      ]
     },
     "execution_count": 14,
     "metadata": {},
     "output_type": "execute_result"
    }
   ],
   "source": [
    "# And as a pandas series\n",
    "y_df = pd.Series(y)\n",
    "print(y_df.shape)\n",
    "y_df.head()"
   ]
  },
  {
   "cell_type": "markdown",
   "metadata": {},
   "source": [
    "## Three ways to do one method: Linear regression\n",
    "\n",
    "> **Note**\n",
    "\n",
    "> I'm not going to go through the \"typical\" modelling workflow of, for example, making a training/test dataset split and running some cross-validation or a grid search to properly tune the hyperparameters. If interested in the modelling workflow, let me know and maybe I can prepare another tutorial!\n",
    "\n",
    "### Way 1: `scikit-learn`"
   ]
  },
  {
   "cell_type": "code",
   "execution_count": 21,
   "metadata": {},
   "outputs": [
    {
     "data": {
      "text/plain": [
       "LinearRegression(copy_X=True, fit_intercept=True, n_jobs=1, normalize=False)"
      ]
     },
     "execution_count": 21,
     "metadata": {},
     "output_type": "execute_result"
    }
   ],
   "source": [
    "from sklearn.linear_model import LinearRegression\n",
    "\n",
    "# Initialize a linear regression object\n",
    "# (using the default parameters)\n",
    "lr = LinearRegression()\n",
    "lr"
   ]
  },
  {
   "cell_type": "code",
   "execution_count": 42,
   "metadata": {},
   "outputs": [
    {
     "name": "stdout",
     "output_type": "stream",
     "text": [
      "The size of the test df is 88 obs.\n",
      "The size of the training df is 354 obs.\n"
     ]
    }
   ],
   "source": [
    "# Let's make a training/test split\n",
    "test_index = X_df.sample(frac=0.2).index\n",
    "\n",
    "print(f\"The size of the test df is {len(test_index)} obs.\")\n",
    "print(f\"The size of the training df is {len(X_df) - len(test_index)} obs.\")\n",
    "\n",
    "X_test = X_df.loc[test_index]\n",
    "y_test = y_df.loc[test_index]\n",
    "\n",
    "X_train = X_df.loc[~X_df.index.isin(test_index)]\n",
    "y_train = y_df.loc[~y_df.index.isin(test_index)]"
   ]
  },
  {
   "cell_type": "code",
   "execution_count": 43,
   "metadata": {},
   "outputs": [
    {
     "data": {
      "text/plain": [
       "LinearRegression(copy_X=True, fit_intercept=True, n_jobs=1, normalize=False)"
      ]
     },
     "execution_count": 43,
     "metadata": {},
     "output_type": "execute_result"
    }
   ],
   "source": [
    "# Fit the linear regression using our data\n",
    "# Note: This method changes the LinearRegression() object we made\n",
    "lr.fit(X_train, y_train)"
   ]
  },
  {
   "cell_type": "code",
   "execution_count": 44,
   "metadata": {},
   "outputs": [
    {
     "data": {
      "text/plain": [
       "array([  -4.79766744, -192.4470064 ,  581.2823361 ,  294.41729884,\n",
       "       -484.37614111,  286.01472911,  -40.06535023,  115.56061355,\n",
       "        603.55339777,   57.17644928])"
      ]
     },
     "execution_count": 44,
     "metadata": {},
     "output_type": "execute_result"
    }
   ],
   "source": [
    "# Let's take a look at the coefficients\n",
    "lr.coef_"
   ]
  },
  {
   "cell_type": "code",
   "execution_count": 47,
   "metadata": {},
   "outputs": [
    {
     "data": {
      "text/plain": [
       "0.5174555966487104"
      ]
     },
     "execution_count": 47,
     "metadata": {},
     "output_type": "execute_result"
    }
   ],
   "source": [
    "# How'd we do!?! Let's check our R^2\n",
    "lr.score(X_test, y_test)"
   ]
  },
  {
   "cell_type": "markdown",
   "metadata": {},
   "source": [
    "Ooops, not much better than average. I thought this dataset was supposed to be easy!?"
   ]
  },
  {
   "cell_type": "code",
   "execution_count": 49,
   "metadata": {},
   "outputs": [
    {
     "data": {
      "text/plain": [
       "(88,)"
      ]
     },
     "execution_count": 49,
     "metadata": {},
     "output_type": "execute_result"
    }
   ],
   "source": [
    "# Let's make some predictions for y, compare against the actuals\n",
    "y_pred = lr.predict(X_test)\n",
    "y_pred.shape"
   ]
  },
  {
   "cell_type": "code",
   "execution_count": 62,
   "metadata": {},
   "outputs": [
    {
     "data": {
      "image/png": "[encoded data removed]",
      "text/plain": [
       "<Figure size 432x288 with 1 Axes>"
      ]
     },
     "metadata": {},
     "output_type": "display_data"
    }
   ],
   "source": [
    "%matplotlib inline\n",
    "\n",
    "import matplotlib.pyplot as plt\n",
    "\n",
    "plt.style.use('bmh')\n",
    "\n",
    "max_diagonal_line = max(y_pred.max(), y_test.max())\n",
    "\n",
    "plt.plot(y_test, y_pred, 'o')\n",
    "plt.plot([0, max_diagonal_line], [0, max_diagonal_line], label='Identity (zero error)') # Making a 45-degree line, for comparison\n",
    "plt.xlabel('Predictions')\n",
    "plt.ylabel('Actuals')\n",
    "plt.title('How far off are we?')\n",
    "plt.legend()\n",
    "plt.show()"
   ]
  },
  {
   "cell_type": "markdown",
   "metadata": {},
   "source": [
    "### Way 2: `statsmodels`\n",
    "\n",
    "`statsmodels` is built with statisticians in mind: if you're interested in p-values, t-scores and things like that, `statsmodels` will be familiar. It's also a bit more similar to `R`, `Stata`, and other statistical softwares."
   ]
  },
  {
   "cell_type": "code",
   "execution_count": 72,
   "metadata": {},
   "outputs": [
    {
     "data": {
      "text/html": [
       "<div>\n",
       "<style scoped>\n",
       "    .dataframe tbody tr th:only-of-type {\n",
       "        vertical-align: middle;\n",
       "    }\n",
       "\n",
       "    .dataframe tbody tr th {\n",
       "        vertical-align: top;\n",
       "    }\n",
       "\n",
       "    .dataframe thead th {\n",
       "        text-align: right;\n",
       "    }\n",
       "</style>\n",
       "<table border=\"1\" class=\"dataframe\">\n",
       "  <thead>\n",
       "    <tr style=\"text-align: right;\">\n",
       "      <th></th>\n",
       "      <th>const</th>\n",
       "      <th>0</th>\n",
       "      <th>1</th>\n",
       "      <th>2</th>\n",
       "      <th>3</th>\n",
       "      <th>4</th>\n",
       "      <th>5</th>\n",
       "      <th>6</th>\n",
       "      <th>7</th>\n",
       "      <th>8</th>\n",
       "      <th>9</th>\n",
       "    </tr>\n",
       "  </thead>\n",
       "  <tbody>\n",
       "    <tr>\n",
       "      <th>0</th>\n",
       "      <td>1.0</td>\n",
       "      <td>0.038076</td>\n",
       "      <td>0.050680</td>\n",
       "      <td>0.061696</td>\n",
       "      <td>0.021872</td>\n",
       "      <td>-0.044223</td>\n",
       "      <td>-0.034821</td>\n",
       "      <td>-0.043401</td>\n",
       "      <td>-0.002592</td>\n",
       "      <td>0.019908</td>\n",
       "      <td>-0.017646</td>\n",
       "    </tr>\n",
       "    <tr>\n",
       "      <th>1</th>\n",
       "      <td>1.0</td>\n",
       "      <td>-0.001882</td>\n",
       "      <td>-0.044642</td>\n",
       "      <td>-0.051474</td>\n",
       "      <td>-0.026328</td>\n",
       "      <td>-0.008449</td>\n",
       "      <td>-0.019163</td>\n",
       "      <td>0.074412</td>\n",
       "      <td>-0.039493</td>\n",
       "      <td>-0.068330</td>\n",
       "      <td>-0.092204</td>\n",
       "    </tr>\n",
       "    <tr>\n",
       "      <th>2</th>\n",
       "      <td>1.0</td>\n",
       "      <td>0.085299</td>\n",
       "      <td>0.050680</td>\n",
       "      <td>0.044451</td>\n",
       "      <td>-0.005671</td>\n",
       "      <td>-0.045599</td>\n",
       "      <td>-0.034194</td>\n",
       "      <td>-0.032356</td>\n",
       "      <td>-0.002592</td>\n",
       "      <td>0.002864</td>\n",
       "      <td>-0.025930</td>\n",
       "    </tr>\n",
       "    <tr>\n",
       "      <th>4</th>\n",
       "      <td>1.0</td>\n",
       "      <td>0.005383</td>\n",
       "      <td>-0.044642</td>\n",
       "      <td>-0.036385</td>\n",
       "      <td>0.021872</td>\n",
       "      <td>0.003935</td>\n",
       "      <td>0.015596</td>\n",
       "      <td>0.008142</td>\n",
       "      <td>-0.002592</td>\n",
       "      <td>-0.031991</td>\n",
       "      <td>-0.046641</td>\n",
       "    </tr>\n",
       "    <tr>\n",
       "      <th>5</th>\n",
       "      <td>1.0</td>\n",
       "      <td>-0.092695</td>\n",
       "      <td>-0.044642</td>\n",
       "      <td>-0.040696</td>\n",
       "      <td>-0.019442</td>\n",
       "      <td>-0.068991</td>\n",
       "      <td>-0.079288</td>\n",
       "      <td>0.041277</td>\n",
       "      <td>-0.076395</td>\n",
       "      <td>-0.041180</td>\n",
       "      <td>-0.096346</td>\n",
       "    </tr>\n",
       "  </tbody>\n",
       "</table>\n",
       "</div>"
      ],
      "text/plain": [
       "   const         0         1         2         3         4         5  \\\n",
       "0    1.0  0.038076  0.050680  0.061696  0.021872 -0.044223 -0.034821   \n",
       "1    1.0 -0.001882 -0.044642 -0.051474 -0.026328 -0.008449 -0.019163   \n",
       "2    1.0  0.085299  0.050680  0.044451 -0.005671 -0.045599 -0.034194   \n",
       "4    1.0  0.005383 -0.044642 -0.036385  0.021872  0.003935  0.015596   \n",
       "5    1.0 -0.092695 -0.044642 -0.040696 -0.019442 -0.068991 -0.079288   \n",
       "\n",
       "          6         7         8         9  \n",
       "0 -0.043401 -0.002592  0.019908 -0.017646  \n",
       "1  0.074412 -0.039493 -0.068330 -0.092204  \n",
       "2 -0.032356 -0.002592  0.002864 -0.025930  \n",
       "4  0.008142 -0.002592 -0.031991 -0.046641  \n",
       "5  0.041277 -0.076395 -0.041180 -0.096346  "
      ]
     },
     "execution_count": 72,
     "metadata": {},
     "output_type": "execute_result"
    }
   ],
   "source": [
    "import statsmodels.api as sm\n",
    "\n",
    "# With statsmodels, we need to explicitly add the constant (sklearn does it for us)\n",
    "X_train = sm.add_constant(X_train)\n",
    "X_test = sm.add_constant(X_test)\n",
    "    \n",
    "X_train.head()"
   ]
  },
  {
   "cell_type": "code",
   "execution_count": 90,
   "metadata": {
    "scrolled": false
   },
   "outputs": [],
   "source": [
    "import numpy as np\n",
    "\n",
    "# Fit a linear regression\n",
    "lr_statsmodels = sm.OLS(y_train, X_train)\n",
    "lr_sm_results = lr_statsmodels.fit()"
   ]
  },
  {
   "cell_type": "code",
   "execution_count": 91,
   "metadata": {},
   "outputs": [
    {
     "data": {
      "text/plain": [
       "0.5139381217561377"
      ]
     },
     "execution_count": 91,
     "metadata": {},
     "output_type": "execute_result"
    }
   ],
   "source": [
    "# How did we do!?!?!?!?\n",
    "lr_sm_results.rsquared"
   ]
  },
  {
   "cell_type": "markdown",
   "metadata": {},
   "source": [
    "Same-ish rsquared as `scikit-learn`! i.e. Still pretty bad!\n",
    "\n",
    "`statsmodels` has some reporting stuff for classical stats stuff:"
   ]
  },
  {
   "cell_type": "code",
   "execution_count": 92,
   "metadata": {},
   "outputs": [
    {
     "data": {
      "text/html": [
       "<table class=\"simpletable\">\n",
       "<caption>OLS Regression Results</caption>\n",
       "<tr>\n",
       "  <th>Dep. Variable:</th>            <td>y</td>        <th>  R-squared:         </th> <td>   0.514</td>\n",
       "</tr>\n",
       "<tr>\n",
       "  <th>Model:</th>                   <td>OLS</td>       <th>  Adj. R-squared:    </th> <td>   0.500</td>\n",
       "</tr>\n",
       "<tr>\n",
       "  <th>Method:</th>             <td>Least Squares</td>  <th>  F-statistic:       </th> <td>   36.27</td>\n",
       "</tr>\n",
       "<tr>\n",
       "  <th>Date:</th>             <td>Sat, 17 Mar 2018</td> <th>  Prob (F-statistic):</th> <td>5.04e-48</td>\n",
       "</tr>\n",
       "<tr>\n",
       "  <th>Time:</th>                 <td>15:05:02</td>     <th>  Log-Likelihood:    </th> <td> -1914.0</td>\n",
       "</tr>\n",
       "<tr>\n",
       "  <th>No. Observations:</th>      <td>   354</td>      <th>  AIC:               </th> <td>   3850.</td>\n",
       "</tr>\n",
       "<tr>\n",
       "  <th>Df Residuals:</th>          <td>   343</td>      <th>  BIC:               </th> <td>   3893.</td>\n",
       "</tr>\n",
       "<tr>\n",
       "  <th>Df Model:</th>              <td>    10</td>      <th>                     </th>     <td> </td>   \n",
       "</tr>\n",
       "<tr>\n",
       "  <th>Covariance Type:</th>      <td>nonrobust</td>    <th>                     </th>     <td> </td>   \n",
       "</tr>\n",
       "</table>\n",
       "<table class=\"simpletable\">\n",
       "<tr>\n",
       "    <td></td>       <th>coef</th>     <th>std err</th>      <th>t</th>      <th>P>|t|</th>  <th>[0.025</th>    <th>0.975]</th>  \n",
       "</tr>\n",
       "<tr>\n",
       "  <th>const</th> <td>  152.2487</td> <td>    2.924</td> <td>   52.077</td> <td> 0.000</td> <td>  146.498</td> <td>  157.999</td>\n",
       "</tr>\n",
       "<tr>\n",
       "  <th>0</th>     <td>   -4.7977</td> <td>   68.178</td> <td>   -0.070</td> <td> 0.944</td> <td> -138.897</td> <td>  129.302</td>\n",
       "</tr>\n",
       "<tr>\n",
       "  <th>1</th>     <td> -192.4470</td> <td>   68.651</td> <td>   -2.803</td> <td> 0.005</td> <td> -327.477</td> <td>  -57.417</td>\n",
       "</tr>\n",
       "<tr>\n",
       "  <th>2</th>     <td>  581.2823</td> <td>   74.693</td> <td>    7.782</td> <td> 0.000</td> <td>  434.369</td> <td>  728.196</td>\n",
       "</tr>\n",
       "<tr>\n",
       "  <th>3</th>     <td>  294.4173</td> <td>   75.228</td> <td>    3.914</td> <td> 0.000</td> <td>  146.452</td> <td>  442.383</td>\n",
       "</tr>\n",
       "<tr>\n",
       "  <th>4</th>     <td> -484.3761</td> <td>  454.532</td> <td>   -1.066</td> <td> 0.287</td> <td>-1378.398</td> <td>  409.645</td>\n",
       "</tr>\n",
       "<tr>\n",
       "  <th>5</th>     <td>  286.0147</td> <td>  366.132</td> <td>    0.781</td> <td> 0.435</td> <td> -434.132</td> <td> 1006.162</td>\n",
       "</tr>\n",
       "<tr>\n",
       "  <th>6</th>     <td>  -40.0654</td> <td>  240.898</td> <td>   -0.166</td> <td> 0.868</td> <td> -513.889</td> <td>  433.758</td>\n",
       "</tr>\n",
       "<tr>\n",
       "  <th>7</th>     <td>  115.5606</td> <td>  183.758</td> <td>    0.629</td> <td> 0.530</td> <td> -245.873</td> <td>  476.994</td>\n",
       "</tr>\n",
       "<tr>\n",
       "  <th>8</th>     <td>  603.5534</td> <td>  192.804</td> <td>    3.130</td> <td> 0.002</td> <td>  224.327</td> <td>  982.780</td>\n",
       "</tr>\n",
       "<tr>\n",
       "  <th>9</th>     <td>   57.1764</td> <td>   74.452</td> <td>    0.768</td> <td> 0.443</td> <td>  -89.263</td> <td>  203.616</td>\n",
       "</tr>\n",
       "</table>\n",
       "<table class=\"simpletable\">\n",
       "<tr>\n",
       "  <th>Omnibus:</th>       <td> 1.845</td> <th>  Durbin-Watson:     </th> <td>   2.024</td>\n",
       "</tr>\n",
       "<tr>\n",
       "  <th>Prob(Omnibus):</th> <td> 0.397</td> <th>  Jarque-Bera (JB):  </th> <td>   1.600</td>\n",
       "</tr>\n",
       "<tr>\n",
       "  <th>Skew:</th>          <td>-0.003</td> <th>  Prob(JB):          </th> <td>   0.449</td>\n",
       "</tr>\n",
       "<tr>\n",
       "  <th>Kurtosis:</th>      <td> 2.671</td> <th>  Cond. No.          </th> <td>    220.</td>\n",
       "</tr>\n",
       "</table>"
      ],
      "text/plain": [
       "<class 'statsmodels.iolib.summary.Summary'>\n",
       "\"\"\"\n",
       "                            OLS Regression Results                            \n",
       "==============================================================================\n",
       "Dep. Variable:                      y   R-squared:                       0.514\n",
       "Model:                            OLS   Adj. R-squared:                  0.500\n",
       "Method:                 Least Squares   F-statistic:                     36.27\n",
       "Date:                Sat, 17 Mar 2018   Prob (F-statistic):           5.04e-48\n",
       "Time:                        15:05:02   Log-Likelihood:                -1914.0\n",
       "No. Observations:                 354   AIC:                             3850.\n",
       "Df Residuals:                     343   BIC:                             3893.\n",
       "Df Model:                          10                                         \n",
       "Covariance Type:            nonrobust                                         \n",
       "==============================================================================\n",
       "                 coef    std err          t      P>|t|      [0.025      0.975]\n",
       "------------------------------------------------------------------------------\n",
       "const        152.2487      2.924     52.077      0.000     146.498     157.999\n",
       "0             -4.7977     68.178     -0.070      0.944    -138.897     129.302\n",
       "1           -192.4470     68.651     -2.803      0.005    -327.477     -57.417\n",
       "2            581.2823     74.693      7.782      0.000     434.369     728.196\n",
       "3            294.4173     75.228      3.914      0.000     146.452     442.383\n",
       "4           -484.3761    454.532     -1.066      0.287   -1378.398     409.645\n",
       "5            286.0147    366.132      0.781      0.435    -434.132    1006.162\n",
       "6            -40.0654    240.898     -0.166      0.868    -513.889     433.758\n",
       "7            115.5606    183.758      0.629      0.530    -245.873     476.994\n",
       "8            603.5534    192.804      3.130      0.002     224.327     982.780\n",
       "9             57.1764     74.452      0.768      0.443     -89.263     203.616\n",
       "==============================================================================\n",
       "Omnibus:                        1.845   Durbin-Watson:                   2.024\n",
       "Prob(Omnibus):                  0.397   Jarque-Bera (JB):                1.600\n",
       "Skew:                          -0.003   Prob(JB):                        0.449\n",
       "Kurtosis:                       2.671   Cond. No.                         220.\n",
       "==============================================================================\n",
       "\n",
       "Warnings:\n",
       "[1] Standard Errors assume that the covariance matrix of the errors is correctly specified.\n",
       "\"\"\""
      ]
     },
     "execution_count": 92,
     "metadata": {},
     "output_type": "execute_result"
    }
   ],
   "source": [
    "lr_sm_results.summary()"
   ]
  },
  {
   "cell_type": "markdown",
   "metadata": {},
   "source": [
    "Let's predict as well, and plot both the `scikit-learn` and `statsmodels` predictions. That is, let's predict their errors."
   ]
  },
  {
   "cell_type": "code",
   "execution_count": 108,
   "metadata": {},
   "outputs": [
    {
     "data": {
      "text/html": [
       "<div>\n",
       "<style scoped>\n",
       "    .dataframe tbody tr th:only-of-type {\n",
       "        vertical-align: middle;\n",
       "    }\n",
       "\n",
       "    .dataframe tbody tr th {\n",
       "        vertical-align: top;\n",
       "    }\n",
       "\n",
       "    .dataframe thead th {\n",
       "        text-align: right;\n",
       "    }\n",
       "</style>\n",
       "<table border=\"1\" class=\"dataframe\">\n",
       "  <thead>\n",
       "    <tr style=\"text-align: right;\">\n",
       "      <th></th>\n",
       "      <th>actual</th>\n",
       "      <th>scikit-learn</th>\n",
       "      <th>statsmodels</th>\n",
       "    </tr>\n",
       "  </thead>\n",
       "  <tbody>\n",
       "    <tr>\n",
       "      <th>3</th>\n",
       "      <td>206.0</td>\n",
       "      <td>163.546941</td>\n",
       "      <td>163.546941</td>\n",
       "    </tr>\n",
       "    <tr>\n",
       "      <th>262</th>\n",
       "      <td>308.0</td>\n",
       "      <td>268.524205</td>\n",
       "      <td>268.524205</td>\n",
       "    </tr>\n",
       "    <tr>\n",
       "      <th>325</th>\n",
       "      <td>192.0</td>\n",
       "      <td>219.036425</td>\n",
       "      <td>219.036425</td>\n",
       "    </tr>\n",
       "    <tr>\n",
       "      <th>158</th>\n",
       "      <td>96.0</td>\n",
       "      <td>84.332171</td>\n",
       "      <td>84.332171</td>\n",
       "    </tr>\n",
       "    <tr>\n",
       "      <th>140</th>\n",
       "      <td>118.0</td>\n",
       "      <td>159.750999</td>\n",
       "      <td>159.750999</td>\n",
       "    </tr>\n",
       "  </tbody>\n",
       "</table>\n",
       "</div>"
      ],
      "text/plain": [
       "     actual  scikit-learn  statsmodels\n",
       "3     206.0    163.546941   163.546941\n",
       "262   308.0    268.524205   268.524205\n",
       "325   192.0    219.036425   219.036425\n",
       "158    96.0     84.332171    84.332171\n",
       "140   118.0    159.750999   159.750999"
      ]
     },
     "execution_count": 108,
     "metadata": {},
     "output_type": "execute_result"
    }
   ],
   "source": [
    "y_pred_sm = lr_sm_results.predict(X_test)\n",
    "\n",
    "# Making a dataframe that compares the actual vs. scikit-learn predictions vs. statsmodels predictions.\n",
    "comparison_df = pd.DataFrame({'actual': y_test,\n",
    "             'scikit-learn': y_pred,\n",
    "             'statsmodels': y_pred_sm})\n",
    "\n",
    "comparison_df.head()"
   ]
  },
  {
   "cell_type": "code",
   "execution_count": 114,
   "metadata": {},
   "outputs": [
    {
     "data": {
      "image/png": "[encoded data removed]",
      "text/plain": [
       "<Figure size 432x288 with 1 Axes>"
      ]
     },
     "metadata": {},
     "output_type": "display_data"
    }
   ],
   "source": [
    "# Let's calculate the absolute errors and plot them\n",
    "\n",
    "comparison_df['error_sklearn'] = abs(comparison_df['scikit-learn'] - comparison_df['actual'])\n",
    "comparison_df['error_statsmodels'] = abs(comparison_df['statsmodels'] - comparison_df['actual'])\n",
    "\n",
    "plt.plot(comparison_df['error_sklearn'], comparison_df['error_statsmodels'])\n",
    "plt.title('sklearn == statsmodels!')\n",
    "plt.show()"
   ]
  },
  {
   "cell_type": "markdown",
   "metadata": {},
   "source": [
    "The main thing we learn from this is that you can use the linear regression tool in either `scikit-learn` and `statsmodels` - both will give you the (exact same) predictions. That is, both will fit to the same coefficients, get the same (well, almost same) $R^2$, and so on. \n",
    "\n",
    "This type of overlap doesn't exist for _all_ methods though. As I mentioned, `scikit-learn` goes deeper on **machine learning**, while `statsmodels` goes deeper on **classical (frequentist) statistics**. \n",
    "\n",
    "### Way 3: `numpy` (baking from scratch)\n",
    "\n",
    "All of statistics and machine learning is a series of linear algebra steps. From a simple linear regression to a neural net, you can actually just build it from zero in Python's linear algebra library, `numpy`. (For example, here's [Joel Grus building a neural net in only `numpy` and basic Python - in one hour](https://www.youtube.com/watch?v=o64FV-ez6Gw), and [here's Siraj Raval doing the same thing in 4 minutes](https://www.youtube.com/watch?v=h3l4qz76JhQ).)\n",
    "\n",
    "This is very useful when you're learning about these methods and you want to take them apart. But it's rare that you'll do it more than once - since there exist so many libraries out there that can reduce the number of steps for you.\n",
    "\n",
    "Linear regression, though, is one of those methods that takes the same number of steps in any library - since \"fitting\" a linear regression (i.e. getting your $\\beta_{i}$ coefficients for your $i$ independent variables/features) just means minimizing the squared distance between your predictions and the actual values. In [other words](https://en.wikipedia.org/wiki/Linear_regression#Least-squares_estimation_and_related_techniques), \n",
    "\n",
    "$$\\hat{\\beta} = (X^TX)^{-1}(X^Ty)$$\n",
    "\n",
    "That is:\n",
    "- Multiplying the $X$ and $y$ matrices (dot product of $X$ transposed and $y$),\n",
    "- And dividing by the \"square\" of the $X$ matrix (dot of $X$ transposed and $X$, inverting that)\n",
    "\n",
    "These are all linear algebra operations!\n",
    "\n",
    "So we can do it all in `numpy`! But first, let's switch back from `pandas` dataframes to `numpy` arrays:"
   ]
  },
  {
   "cell_type": "code",
   "execution_count": 116,
   "metadata": {},
   "outputs": [
    {
     "data": {
      "text/html": [
       "<div>\n",
       "<style scoped>\n",
       "    .dataframe tbody tr th:only-of-type {\n",
       "        vertical-align: middle;\n",
       "    }\n",
       "\n",
       "    .dataframe tbody tr th {\n",
       "        vertical-align: top;\n",
       "    }\n",
       "\n",
       "    .dataframe thead th {\n",
       "        text-align: right;\n",
       "    }\n",
       "</style>\n",
       "<table border=\"1\" class=\"dataframe\">\n",
       "  <thead>\n",
       "    <tr style=\"text-align: right;\">\n",
       "      <th></th>\n",
       "      <th>const</th>\n",
       "      <th>0</th>\n",
       "      <th>1</th>\n",
       "      <th>2</th>\n",
       "      <th>3</th>\n",
       "      <th>4</th>\n",
       "      <th>5</th>\n",
       "      <th>6</th>\n",
       "      <th>7</th>\n",
       "      <th>8</th>\n",
       "      <th>9</th>\n",
       "    </tr>\n",
       "  </thead>\n",
       "  <tbody>\n",
       "    <tr>\n",
       "      <th>0</th>\n",
       "      <td>1.0</td>\n",
       "      <td>0.038076</td>\n",
       "      <td>0.050680</td>\n",
       "      <td>0.061696</td>\n",
       "      <td>0.021872</td>\n",
       "      <td>-0.044223</td>\n",
       "      <td>-0.034821</td>\n",
       "      <td>-0.043401</td>\n",
       "      <td>-0.002592</td>\n",
       "      <td>0.019908</td>\n",
       "      <td>-0.017646</td>\n",
       "    </tr>\n",
       "    <tr>\n",
       "      <th>1</th>\n",
       "      <td>1.0</td>\n",
       "      <td>-0.001882</td>\n",
       "      <td>-0.044642</td>\n",
       "      <td>-0.051474</td>\n",
       "      <td>-0.026328</td>\n",
       "      <td>-0.008449</td>\n",
       "      <td>-0.019163</td>\n",
       "      <td>0.074412</td>\n",
       "      <td>-0.039493</td>\n",
       "      <td>-0.068330</td>\n",
       "      <td>-0.092204</td>\n",
       "    </tr>\n",
       "    <tr>\n",
       "      <th>2</th>\n",
       "      <td>1.0</td>\n",
       "      <td>0.085299</td>\n",
       "      <td>0.050680</td>\n",
       "      <td>0.044451</td>\n",
       "      <td>-0.005671</td>\n",
       "      <td>-0.045599</td>\n",
       "      <td>-0.034194</td>\n",
       "      <td>-0.032356</td>\n",
       "      <td>-0.002592</td>\n",
       "      <td>0.002864</td>\n",
       "      <td>-0.025930</td>\n",
       "    </tr>\n",
       "    <tr>\n",
       "      <th>4</th>\n",
       "      <td>1.0</td>\n",
       "      <td>0.005383</td>\n",
       "      <td>-0.044642</td>\n",
       "      <td>-0.036385</td>\n",
       "      <td>0.021872</td>\n",
       "      <td>0.003935</td>\n",
       "      <td>0.015596</td>\n",
       "      <td>0.008142</td>\n",
       "      <td>-0.002592</td>\n",
       "      <td>-0.031991</td>\n",
       "      <td>-0.046641</td>\n",
       "    </tr>\n",
       "    <tr>\n",
       "      <th>5</th>\n",
       "      <td>1.0</td>\n",
       "      <td>-0.092695</td>\n",
       "      <td>-0.044642</td>\n",
       "      <td>-0.040696</td>\n",
       "      <td>-0.019442</td>\n",
       "      <td>-0.068991</td>\n",
       "      <td>-0.079288</td>\n",
       "      <td>0.041277</td>\n",
       "      <td>-0.076395</td>\n",
       "      <td>-0.041180</td>\n",
       "      <td>-0.096346</td>\n",
       "    </tr>\n",
       "  </tbody>\n",
       "</table>\n",
       "</div>"
      ],
      "text/plain": [
       "   const         0         1         2         3         4         5  \\\n",
       "0    1.0  0.038076  0.050680  0.061696  0.021872 -0.044223 -0.034821   \n",
       "1    1.0 -0.001882 -0.044642 -0.051474 -0.026328 -0.008449 -0.019163   \n",
       "2    1.0  0.085299  0.050680  0.044451 -0.005671 -0.045599 -0.034194   \n",
       "4    1.0  0.005383 -0.044642 -0.036385  0.021872  0.003935  0.015596   \n",
       "5    1.0 -0.092695 -0.044642 -0.040696 -0.019442 -0.068991 -0.079288   \n",
       "\n",
       "          6         7         8         9  \n",
       "0 -0.043401 -0.002592  0.019908 -0.017646  \n",
       "1  0.074412 -0.039493 -0.068330 -0.092204  \n",
       "2 -0.032356 -0.002592  0.002864 -0.025930  \n",
       "4  0.008142 -0.002592 -0.031991 -0.046641  \n",
       "5  0.041277 -0.076395 -0.041180 -0.096346  "
      ]
     },
     "execution_count": 116,
     "metadata": {},
     "output_type": "execute_result"
    }
   ],
   "source": [
    "X_train.head()"
   ]
  },
  {
   "cell_type": "code",
   "execution_count": 131,
   "metadata": {},
   "outputs": [
    {
     "data": {
      "text/plain": [
       "array([[ 1.        ,  0.03807591,  0.05068012,  0.06169621,  0.02187235,\n",
       "        -0.0442235 , -0.03482076, -0.04340085, -0.00259226,  0.01990842,\n",
       "        -0.01764613],\n",
       "       [ 1.        , -0.00188202, -0.04464164, -0.05147406, -0.02632783,\n",
       "        -0.00844872, -0.01916334,  0.07441156, -0.03949338, -0.06832974,\n",
       "        -0.09220405]])"
      ]
     },
     "execution_count": 131,
     "metadata": {},
     "output_type": "execute_result"
    }
   ],
   "source": [
    "X_train_np = np.array(X_train)\n",
    "y_train_np = np.array(y_train)\n",
    "\n",
    "# First couple rows\n",
    "X_train_np[0:2]"
   ]
  },
  {
   "cell_type": "markdown",
   "metadata": {},
   "source": [
    "The linear algebra operations mentioned above - _transpose_, _dot products_, and _inverting a matrix_ - are all `numpy` methods you can do."
   ]
  },
  {
   "cell_type": "code",
   "execution_count": 128,
   "metadata": {},
   "outputs": [
    {
     "data": {
      "text/plain": [
       "array([1., 1., 1., 1., 1., 1., 1., 1., 1., 1.])"
      ]
     },
     "execution_count": 128,
     "metadata": {},
     "output_type": "execute_result"
    }
   ],
   "source": [
    "# Now the first column (which was our constant) has become our first row\n",
    "X_train_np.T[0][:10]"
   ]
  },
  {
   "cell_type": "code",
   "execution_count": 134,
   "metadata": {},
   "outputs": [
    {
     "data": {
      "text/plain": [
       "array([54088.        ,   184.88905714,   164.92518334,   807.41457015,\n",
       "         633.75864179,   251.48702553,   212.75397463,  -563.56415803,\n",
       "         574.88769823,   714.53280385,   623.67840637])"
      ]
     },
     "execution_count": 134,
     "metadata": {},
     "output_type": "execute_result"
    }
   ],
   "source": [
    "# Let's fit our coefficients!\n",
    "np.dot(X_train_np.T, y_train_np) "
   ]
  },
  {
   "cell_type": "code",
   "execution_count": 151,
   "metadata": {},
   "outputs": [
    {
     "name": "stdout",
     "output_type": "stream",
     "text": [
      "scikit-learn's coefficients\n",
      "[  -4.79766744 -192.4470064   581.2823361   294.41729884 -484.37614111\n",
      "  286.01472911  -40.06535023  115.56061355  603.55339777   57.17644928]\n",
      "\n",
      "statsmodel's coefficients\n",
      "[  -4.79766744 -192.4470064   581.2823361   294.41729884 -484.37614111\n",
      "  286.01472911  -40.06535023  115.56061355  603.55339777   57.17644928]\n",
      "\n",
      "numpy's 'from scratch' coefficients\n",
      "[  -4.79766744 -192.4470064   581.2823361   294.41729884 -484.37614111\n",
      "  286.01472911  -40.06535023  115.56061355  603.55339777   57.17644928]\n"
     ]
    }
   ],
   "source": [
    "coefs_ = np.dot(np.linalg.inv(np.dot(X_train_np.T, X_train_np)), np.dot(X_train_np.T, y_train_np))\n",
    "\n",
    "print(\"scikit-learn's coefficients\")\n",
    "print(lr.coef_)\n",
    "\n",
    "print(\"\\nstatsmodel's coefficients\")\n",
    "print(lr_sm_results.params.values[1:])\n",
    "\n",
    "print(\"\\nnumpy's 'from scratch' coefficients\")\n",
    "print(coefs_[1:])"
   ]
  },
  {
   "cell_type": "markdown",
   "metadata": {},
   "source": [
    "Given that we have the same coefficients from all three libraries, this means that we would have the same predictions, the same error rate, and the same $R^2$!"
   ]
  },
  {
   "cell_type": "code",
   "execution_count": null,
   "metadata": {},
   "outputs": [],
   "source": []
  }
 ],
 "metadata": {
  "kernelspec": {
   "display_name": "Python 3",
   "language": "python",
   "name": "python3"
  },
  "language_info": {
   "codemirror_mode": {
    "name": "ipython",
    "version": 3
   },
   "file_extension": ".py",
   "mimetype": "text/x-python",
   "name": "python",
   "nbconvert_exporter": "python",
   "pygments_lexer": "ipython3",
   "version": "3.6.1"
  }
 },
 "nbformat": 4,
 "nbformat_minor": 2
}
