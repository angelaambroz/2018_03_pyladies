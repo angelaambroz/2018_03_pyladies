{
 "cells": [
  {
   "cell_type": "markdown",
   "metadata": {},
   "source": [
    "# You have some data... now what?\n",
    "\n",
    "Usually, you want to spend some time **exploring the data**. This can include a bunch of things:\n",
    "- **Sanity checks**: does the data include the columns you're expecting? How are rows unique? Are there duplicates?\n",
    "- **Hunting for patterns and outliers**: Are there any? What do they look like? Does anything seem correlated?\n",
    "- **Some descriptive statistics** (mean, standard deviation, histograms)\n",
    "And just generally getting to know your data!\n",
    "\n",
    "You can do a lot of this with `pandas`, but pictures contain $\\infty$ words, so now's the time to introduce our visualization tools!\n",
    "\n",
    "## Next tool: `matplotlib`\n",
    "\n",
    "![matplotlib logo](imgs/matplotlib_logo.png)\n",
    "\n",
    "[`matplotlib`](https://matplotlib.org/) is one of the most popular plotting libraries in the Python data science stack. You may find people using [`seaborn`](https://seaborn.pydata.org/) or [`bokeh`](https://bokeh.pydata.org/en/latest/), and definitely explore those and other options, but `matplotlib` is the \"default\" plotting library. It's very powerful and definitely worth investing time in.\n",
    "\n",
    "However, `matplotlib`'s documentation is... not super friendly. (Unless you have experience [MATLAB](https://www.mathworks.com/products/matlab.html), in which case it may be familiar to you.) You can get a handle on it by keeping the following in mind:\n",
    "- The basic call for a `matplotlib` chart is `plt.plot(x, y)`.\n",
    "    - `.plot()`  has lots of additional, handy keyword arguments, like `color='red'`, `alpha=0.2` (20% transparency), and `label=\"Tuition\"`.\n",
    "- `plt.plot()` doesn't always display the plot, though. Instead, it instantiates a matplotlib pyplot object.\n",
    "- You can explicitly display the object with `plt.show()`.\n",
    "- You can modify the object's attributes - e.g. the range of the x- and y-scales, the title, the x- and y-axis labels. For example, to change the title, you can do `plt.plot(x, y)`, then `plt.title(\"My cool chart title\")` and then `plt.show()`!\n",
    "\n",
    "Here's a good [walkthrough of the object-ness of `matplotlib` charts, and how to use it well](http://pbpython.com/effective-matplotlib.html), and [another one](https://realpython.com/blog/python/python-matplotlib-guide/). No need to go through these now, though! You can get pretty far with just the tips above!"
   ]
  },
  {
   "cell_type": "code",
   "execution_count": 1,
   "metadata": {},
   "outputs": [],
   "source": [
    "# Tell Jupyter to display matplotlib plots in your notebook\n",
    "%matplotlib inline\n",
    "\n",
    "import pandas as pd\n",
    "import matplotlib.pyplot as plt\n",
    "\n",
    "# Let's resize all our charts to be a bit bigger\n",
    "import matplotlib as mpl\n",
    "mpl.rcParams['figure.figsize'] = (12, 8)\n",
    "\n",
    "# matplotlib has certain default styles that you can specify at the top of your notebook\n",
    "# https://matplotlib.org/users/style_sheets.html\n",
    "# Here, I use the 'bmh' style - just a personal preference!\n",
    "plt.style.use('bmh')"
   ]
  },
  {
   "cell_type": "markdown",
   "metadata": {},
   "source": [
    "### Back to the Greeks\n",
    "\n",
    "Let's explore the Duke Greek life dataset."
   ]
  },
  {
   "cell_type": "code",
   "execution_count": 2,
   "metadata": {},
   "outputs": [
    {
     "name": "stdout",
     "output_type": "stream",
     "text": [
      "(1739, 16)\n"
     ]
    },
    {
     "data": {
      "text/html": [
       "<div>\n",
       "<style scoped>\n",
       "    .dataframe tbody tr th:only-of-type {\n",
       "        vertical-align: middle;\n",
       "    }\n",
       "\n",
       "    .dataframe tbody tr th {\n",
       "        vertical-align: top;\n",
       "    }\n",
       "\n",
       "    .dataframe thead th {\n",
       "        text-align: right;\n",
       "    }\n",
       "</style>\n",
       "<table border=\"1\" class=\"dataframe\">\n",
       "  <thead>\n",
       "    <tr style=\"text-align: right;\">\n",
       "      <th></th>\n",
       "      <th>Greek Council</th>\n",
       "      <th>Greek Organization</th>\n",
       "      <th>Home City</th>\n",
       "      <th>Home State</th>\n",
       "      <th>Home Country</th>\n",
       "      <th>Latitude of Home City</th>\n",
       "      <th>Longitude of Home City</th>\n",
       "      <th>Free and reduced percentage of  High School</th>\n",
       "      <th>Public or Private High School</th>\n",
       "      <th>Domestic or International High School</th>\n",
       "      <th>Boarding/Day High School</th>\n",
       "      <th>Religous High School?</th>\n",
       "      <th>Gender of High School's Students</th>\n",
       "      <th>Tuition of High School</th>\n",
       "      <th>Sports Team</th>\n",
       "      <th>Merit Scholarship</th>\n",
       "    </tr>\n",
       "  </thead>\n",
       "  <tbody>\n",
       "    <tr>\n",
       "      <th>0</th>\n",
       "      <td>None</td>\n",
       "      <td>None</td>\n",
       "      <td>Accokeek</td>\n",
       "      <td>Maryland</td>\n",
       "      <td>United States</td>\n",
       "      <td>38.667617</td>\n",
       "      <td>-77.028309</td>\n",
       "      <td>Data not available</td>\n",
       "      <td>private</td>\n",
       "      <td>Domestic</td>\n",
       "      <td>Day</td>\n",
       "      <td>Episcopal</td>\n",
       "      <td>Co-Ed</td>\n",
       "      <td>36610</td>\n",
       "      <td>None</td>\n",
       "      <td>None</td>\n",
       "    </tr>\n",
       "    <tr>\n",
       "      <th>1</th>\n",
       "      <td>None</td>\n",
       "      <td>None</td>\n",
       "      <td>Advance</td>\n",
       "      <td>North Carolina</td>\n",
       "      <td>United States</td>\n",
       "      <td>35.941248</td>\n",
       "      <td>-80.409222</td>\n",
       "      <td>0.34741523</td>\n",
       "      <td>public</td>\n",
       "      <td>Domestic</td>\n",
       "      <td>Day</td>\n",
       "      <td>Unafilliated</td>\n",
       "      <td>Co-Ed</td>\n",
       "      <td>0</td>\n",
       "      <td>Fooball</td>\n",
       "      <td>None</td>\n",
       "    </tr>\n",
       "    <tr>\n",
       "      <th>2</th>\n",
       "      <td>None</td>\n",
       "      <td>None</td>\n",
       "      <td>Ajman</td>\n",
       "      <td>NaN</td>\n",
       "      <td>United Arab Emirates</td>\n",
       "      <td>25.509129</td>\n",
       "      <td>55.361907</td>\n",
       "      <td>NaN</td>\n",
       "      <td>private</td>\n",
       "      <td>International</td>\n",
       "      <td>Day</td>\n",
       "      <td>Unafilliated</td>\n",
       "      <td>Co-Ed</td>\n",
       "      <td>13093.46</td>\n",
       "      <td>None</td>\n",
       "      <td>None</td>\n",
       "    </tr>\n",
       "    <tr>\n",
       "      <th>3</th>\n",
       "      <td>None</td>\n",
       "      <td>None</td>\n",
       "      <td>Alameda</td>\n",
       "      <td>California</td>\n",
       "      <td>United States</td>\n",
       "      <td>37.609029</td>\n",
       "      <td>-121.899142</td>\n",
       "      <td>0.2268</td>\n",
       "      <td>public</td>\n",
       "      <td>Domestic</td>\n",
       "      <td>Day</td>\n",
       "      <td>Unafilliated</td>\n",
       "      <td>Co-Ed</td>\n",
       "      <td>0</td>\n",
       "      <td>None</td>\n",
       "      <td>None</td>\n",
       "    </tr>\n",
       "    <tr>\n",
       "      <th>4</th>\n",
       "      <td>None</td>\n",
       "      <td>None</td>\n",
       "      <td>Albuquerque</td>\n",
       "      <td>New Mexico</td>\n",
       "      <td>United States</td>\n",
       "      <td>35.084103</td>\n",
       "      <td>-106.650985</td>\n",
       "      <td>Data not available</td>\n",
       "      <td>private</td>\n",
       "      <td>Domestic</td>\n",
       "      <td>Day</td>\n",
       "      <td>Unafilliated</td>\n",
       "      <td>Co-Ed</td>\n",
       "      <td>22870</td>\n",
       "      <td>None</td>\n",
       "      <td>None</td>\n",
       "    </tr>\n",
       "  </tbody>\n",
       "</table>\n",
       "</div>"
      ],
      "text/plain": [
       "  Greek Council Greek Organization    Home City      Home State  \\\n",
       "0          None               None     Accokeek        Maryland   \n",
       "1          None               None      Advance  North Carolina   \n",
       "2          None               None        Ajman             NaN   \n",
       "3          None               None      Alameda      California   \n",
       "4          None               None  Albuquerque      New Mexico   \n",
       "\n",
       "           Home Country  Latitude of Home City  Longitude of Home City  \\\n",
       "0         United States              38.667617              -77.028309   \n",
       "1         United States              35.941248              -80.409222   \n",
       "2  United Arab Emirates              25.509129               55.361907   \n",
       "3         United States              37.609029             -121.899142   \n",
       "4         United States              35.084103             -106.650985   \n",
       "\n",
       "  Free and reduced percentage of  High School Public or Private High School  \\\n",
       "0                          Data not available                       private   \n",
       "1                                  0.34741523                        public   \n",
       "2                                         NaN                       private   \n",
       "3                                      0.2268                        public   \n",
       "4                          Data not available                       private   \n",
       "\n",
       "  Domestic or International High School Boarding/Day High School  \\\n",
       "0                              Domestic                      Day   \n",
       "1                              Domestic                      Day   \n",
       "2                         International                      Day   \n",
       "3                              Domestic                      Day   \n",
       "4                              Domestic                      Day   \n",
       "\n",
       "  Religous High School? Gender of High School's Students  \\\n",
       "0             Episcopal                            Co-Ed   \n",
       "1          Unafilliated                            Co-Ed   \n",
       "2          Unafilliated                            Co-Ed   \n",
       "3          Unafilliated                            Co-Ed   \n",
       "4          Unafilliated                            Co-Ed   \n",
       "\n",
       "  Tuition of High School Sports Team Merit Scholarship  \n",
       "0                  36610        None              None  \n",
       "1                      0     Fooball              None  \n",
       "2               13093.46        None              None  \n",
       "3                      0        None              None  \n",
       "4                  22870        None              None  "
      ]
     },
     "execution_count": 2,
     "metadata": {},
     "output_type": "execute_result"
    }
   ],
   "source": [
    "# Loading the Greek life data\n",
    "df = pd.read_csv('data/duke-greek-life.csv')\n",
    "print(df.shape)\n",
    "df.head()"
   ]
  },
  {
   "cell_type": "markdown",
   "metadata": {},
   "source": [
    " I don't really know anything about Duke or its Greek life, so I have a bunch of questions:\n",
    "- How many students are there? (I'm assuming the level of observation is a student.)\n",
    "- How many students are in a Greek organization?\n",
    "- What's the distribution of high school tuitions? (Do Duke students go to fancy high schools?)\n",
    "- How many had a merit scholarship?\n",
    "- Where are students from?"
   ]
  },
  {
   "cell_type": "code",
   "execution_count": 3,
   "metadata": {},
   "outputs": [
    {
     "data": {
      "text/plain": [
       "1739"
      ]
     },
     "execution_count": 3,
     "metadata": {},
     "output_type": "execute_result"
    }
   ],
   "source": [
    "# How many students are there?\n",
    "len(df)"
   ]
  },
  {
   "cell_type": "code",
   "execution_count": 4,
   "metadata": {},
   "outputs": [
    {
     "data": {
      "text/plain": [
       "None                   1150\n",
       "Gamma Phi Beta           39\n",
       "Kappa Alpha Theta        37\n",
       "Alpha Delta Pi           34\n",
       "Zeta Tau Alpha           33\n",
       "Pi Beta Phi              33\n",
       "Delta Delta Delta        32\n",
       "Kappa Kappa Gamma        32\n",
       "Alpha Phi                30\n",
       "Delta Sigma Phi          29\n",
       "Sigma Phi Epsilon        27\n",
       "Pi Kappa Phi             26\n",
       "Alpha Tau Omega          25\n",
       "Delta Gamma              25\n",
       "Chi Omega                25\n",
       "Delta Tau Delta          24\n",
       "Pi Kappa Alpha           21\n",
       "Kappa Alpha Order        20\n",
       "Alpha Epsilon Pi         20\n",
       "Sigma Nu                 17\n",
       "Sigma Alpha Epsilon      16\n",
       "Kappa Sigma              11\n",
       "Sigma Chi                11\n",
       "Chi Psi                  10\n",
       "Alpha Delta Phi           6\n",
       "Delta Kappa Epsilon       3\n",
       "Psi Upsilon               3\n",
       "Name: Greek Organization, dtype: int64"
      ]
     },
     "execution_count": 4,
     "metadata": {},
     "output_type": "execute_result"
    }
   ],
   "source": [
    "# How many students are in a Greek organization?\n",
    "df['Greek Organization'].value_counts()"
   ]
  },
  {
   "cell_type": "code",
   "execution_count": 5,
   "metadata": {},
   "outputs": [
    {
     "data": {
      "text/plain": [
       "26"
      ]
     },
     "execution_count": 5,
     "metadata": {},
     "output_type": "execute_result"
    }
   ],
   "source": [
    "# How many Greek orgs are there?\n",
    "df['Greek Organization'].nunique() - 1"
   ]
  },
  {
   "cell_type": "code",
   "execution_count": 33,
   "metadata": {},
   "outputs": [
    {
     "data": {
      "text/plain": [
       "0.33870040253018974"
      ]
     },
     "execution_count": 33,
     "metadata": {},
     "output_type": "execute_result"
    }
   ],
   "source": [
    "# What percentage of students are in a Greek org?\n",
    "len(df[df['Greek Organization'] != \"None\"]) / len(df)"
   ]
  },
  {
   "cell_type": "code",
   "execution_count": 6,
   "metadata": {},
   "outputs": [
    {
     "data": {
      "text/plain": [
       "count     1695\n",
       "unique     394\n",
       "top          0\n",
       "freq      1059\n",
       "Name: Tuition of High School, dtype: object"
      ]
     },
     "execution_count": 6,
     "metadata": {},
     "output_type": "execute_result"
    }
   ],
   "source": [
    "# What's the distribution of high school tuitions?\n",
    "df['Tuition of High School'].describe()"
   ]
  },
  {
   "cell_type": "markdown",
   "metadata": {},
   "source": [
    "Ah ha! Our first data cleaning\n",
    "\n",
    "High school tuition sounds like it should be a **numeric** column, but the `dtype` above is `object`. (That is, `pandas` thinks that column is a string.) Why? \n",
    "\n",
    "Let's try to make it numeric with `pandas`'s method, `to_numeric()`:"
   ]
  },
  {
   "cell_type": "code",
   "execution_count": 7,
   "metadata": {},
   "outputs": [
    {
     "ename": "ValueError",
     "evalue": "Unable to parse string \"16,600\" at position 451",
     "output_type": "error",
     "traceback": [
      "\u001b[0;31m---------------------------------------------------------------------------\u001b[0m",
      "\u001b[0;31mValueError\u001b[0m                                Traceback (most recent call last)",
      "\u001b[0;32mpandas/_libs/src/inference.pyx\u001b[0m in \u001b[0;36mpandas._libs.lib.maybe_convert_numeric\u001b[0;34m()\u001b[0m\n",
      "\u001b[0;31mValueError\u001b[0m: Unable to parse string \"16,600\"",
      "\nDuring handling of the above exception, another exception occurred:\n",
      "\u001b[0;31mValueError\u001b[0m                                Traceback (most recent call last)",
      "\u001b[0;32m<ipython-input-7-a925eb2ccede>\u001b[0m in \u001b[0;36m<module>\u001b[0;34m()\u001b[0m\n\u001b[0;32m----> 1\u001b[0;31m \u001b[0mpd\u001b[0m\u001b[0;34m.\u001b[0m\u001b[0mto_numeric\u001b[0m\u001b[0;34m(\u001b[0m\u001b[0mdf\u001b[0m\u001b[0;34m[\u001b[0m\u001b[0;34m'Tuition of High School'\u001b[0m\u001b[0;34m]\u001b[0m\u001b[0;34m)\u001b[0m\u001b[0;34m\u001b[0m\u001b[0m\n\u001b[0m",
      "\u001b[0;32m~/.pyenv/versions/3.6.1/envs/pyladies/lib/python3.6/site-packages/pandas/core/tools/numeric.py\u001b[0m in \u001b[0;36mto_numeric\u001b[0;34m(arg, errors, downcast)\u001b[0m\n\u001b[1;32m    131\u001b[0m             \u001b[0mcoerce_numeric\u001b[0m \u001b[0;34m=\u001b[0m \u001b[0;32mFalse\u001b[0m \u001b[0;32mif\u001b[0m \u001b[0merrors\u001b[0m \u001b[0;32min\u001b[0m \u001b[0;34m(\u001b[0m\u001b[0;34m'ignore'\u001b[0m\u001b[0;34m,\u001b[0m \u001b[0;34m'raise'\u001b[0m\u001b[0;34m)\u001b[0m \u001b[0;32melse\u001b[0m \u001b[0;32mTrue\u001b[0m\u001b[0;34m\u001b[0m\u001b[0m\n\u001b[1;32m    132\u001b[0m             values = lib.maybe_convert_numeric(values, set(),\n\u001b[0;32m--> 133\u001b[0;31m                                                coerce_numeric=coerce_numeric)\n\u001b[0m\u001b[1;32m    134\u001b[0m \u001b[0;34m\u001b[0m\u001b[0m\n\u001b[1;32m    135\u001b[0m     \u001b[0;32mexcept\u001b[0m \u001b[0mException\u001b[0m\u001b[0;34m:\u001b[0m\u001b[0;34m\u001b[0m\u001b[0m\n",
      "\u001b[0;32mpandas/_libs/src/inference.pyx\u001b[0m in \u001b[0;36mpandas._libs.lib.maybe_convert_numeric\u001b[0;34m()\u001b[0m\n",
      "\u001b[0;31mValueError\u001b[0m: Unable to parse string \"16,600\" at position 451"
     ]
    }
   ],
   "source": [
    "pd.to_numeric(df['Tuition of High School'])"
   ]
  },
  {
   "cell_type": "markdown",
   "metadata": {},
   "source": [
    "The comma in \"16,600\" is the problem. Let's try to correct it and see if that helps."
   ]
  },
  {
   "cell_type": "code",
   "execution_count": 8,
   "metadata": {},
   "outputs": [
    {
     "ename": "ValueError",
     "evalue": "Unable to parse string \"1,094.79\" at position 829",
     "output_type": "error",
     "traceback": [
      "\u001b[0;31m---------------------------------------------------------------------------\u001b[0m",
      "\u001b[0;31mValueError\u001b[0m                                Traceback (most recent call last)",
      "\u001b[0;32mpandas/_libs/src/inference.pyx\u001b[0m in \u001b[0;36mpandas._libs.lib.maybe_convert_numeric\u001b[0;34m()\u001b[0m\n",
      "\u001b[0;31mValueError\u001b[0m: Unable to parse string \"1,094.79\"",
      "\nDuring handling of the above exception, another exception occurred:\n",
      "\u001b[0;31mValueError\u001b[0m                                Traceback (most recent call last)",
      "\u001b[0;32m<ipython-input-8-9828410c5d6f>\u001b[0m in \u001b[0;36m<module>\u001b[0;34m()\u001b[0m\n\u001b[1;32m      1\u001b[0m \u001b[0mdf\u001b[0m\u001b[0;34m[\u001b[0m\u001b[0;34m'Tuition of High School'\u001b[0m\u001b[0;34m]\u001b[0m\u001b[0;34m.\u001b[0m\u001b[0mreplace\u001b[0m\u001b[0;34m(\u001b[0m\u001b[0mto_replace\u001b[0m\u001b[0;34m=\u001b[0m\u001b[0;34m\"16,600\"\u001b[0m\u001b[0;34m,\u001b[0m \u001b[0mvalue\u001b[0m\u001b[0;34m=\u001b[0m\u001b[0;34m\"16600\"\u001b[0m\u001b[0;34m,\u001b[0m \u001b[0minplace\u001b[0m\u001b[0;34m=\u001b[0m\u001b[0;32mTrue\u001b[0m\u001b[0;34m)\u001b[0m\u001b[0;34m\u001b[0m\u001b[0m\n\u001b[0;32m----> 2\u001b[0;31m \u001b[0mpd\u001b[0m\u001b[0;34m.\u001b[0m\u001b[0mto_numeric\u001b[0m\u001b[0;34m(\u001b[0m\u001b[0mdf\u001b[0m\u001b[0;34m[\u001b[0m\u001b[0;34m'Tuition of High School'\u001b[0m\u001b[0;34m]\u001b[0m\u001b[0;34m)\u001b[0m\u001b[0;34m\u001b[0m\u001b[0m\n\u001b[0m",
      "\u001b[0;32m~/.pyenv/versions/3.6.1/envs/pyladies/lib/python3.6/site-packages/pandas/core/tools/numeric.py\u001b[0m in \u001b[0;36mto_numeric\u001b[0;34m(arg, errors, downcast)\u001b[0m\n\u001b[1;32m    131\u001b[0m             \u001b[0mcoerce_numeric\u001b[0m \u001b[0;34m=\u001b[0m \u001b[0;32mFalse\u001b[0m \u001b[0;32mif\u001b[0m \u001b[0merrors\u001b[0m \u001b[0;32min\u001b[0m \u001b[0;34m(\u001b[0m\u001b[0;34m'ignore'\u001b[0m\u001b[0;34m,\u001b[0m \u001b[0;34m'raise'\u001b[0m\u001b[0;34m)\u001b[0m \u001b[0;32melse\u001b[0m \u001b[0;32mTrue\u001b[0m\u001b[0;34m\u001b[0m\u001b[0m\n\u001b[1;32m    132\u001b[0m             values = lib.maybe_convert_numeric(values, set(),\n\u001b[0;32m--> 133\u001b[0;31m                                                coerce_numeric=coerce_numeric)\n\u001b[0m\u001b[1;32m    134\u001b[0m \u001b[0;34m\u001b[0m\u001b[0m\n\u001b[1;32m    135\u001b[0m     \u001b[0;32mexcept\u001b[0m \u001b[0mException\u001b[0m\u001b[0;34m:\u001b[0m\u001b[0;34m\u001b[0m\u001b[0m\n",
      "\u001b[0;32mpandas/_libs/src/inference.pyx\u001b[0m in \u001b[0;36mpandas._libs.lib.maybe_convert_numeric\u001b[0;34m()\u001b[0m\n",
      "\u001b[0;31mValueError\u001b[0m: Unable to parse string \"1,094.79\" at position 829"
     ]
    }
   ],
   "source": [
    "df['Tuition of High School'].replace(to_replace=\"16,600\", value=\"16600\", inplace=True)\n",
    "pd.to_numeric(df['Tuition of High School'])"
   ]
  },
  {
   "cell_type": "markdown",
   "metadata": {},
   "source": [
    "Hmmm. Still not finished. Also, it's probably not efficient to manually correct for every comma in every column. We can use a shortcut - Python's string methods! These are also available to us in `pandas`:"
   ]
  },
  {
   "cell_type": "code",
   "execution_count": 9,
   "metadata": {
    "scrolled": true
   },
   "outputs": [
    {
     "data": {
      "text/plain": [
       "0       36610.00\n",
       "1           0.00\n",
       "2       13093.46\n",
       "3           0.00\n",
       "4       22870.00\n",
       "5       22870.00\n",
       "6       22870.00\n",
       "7           0.00\n",
       "8           0.00\n",
       "9           0.00\n",
       "10          0.00\n",
       "11          0.00\n",
       "12          0.00\n",
       "13      14170.00\n",
       "14          0.00\n",
       "15          0.00\n",
       "16          0.00\n",
       "17          0.00\n",
       "18          0.00\n",
       "19      26670.00\n",
       "20          0.00\n",
       "21          0.00\n",
       "22          0.00\n",
       "23       5450.21\n",
       "24      20000.00\n",
       "25      20000.00\n",
       "26          0.00\n",
       "27          0.00\n",
       "28       9494.00\n",
       "29      15000.00\n",
       "          ...   \n",
       "1709        0.00\n",
       "1710    21518.00\n",
       "1711        0.00\n",
       "1712        0.00\n",
       "1713        0.00\n",
       "1714    21190.00\n",
       "1715        0.00\n",
       "1716        0.00\n",
       "1717        0.00\n",
       "1718        0.00\n",
       "1719        0.00\n",
       "1720    42830.00\n",
       "1721    21350.00\n",
       "1722     8300.00\n",
       "1723        0.00\n",
       "1724    13135.00\n",
       "1725     3165.54\n",
       "1726    36100.00\n",
       "1727         NaN\n",
       "1728         NaN\n",
       "1729     5508.00\n",
       "1730    23717.50\n",
       "1731         NaN\n",
       "1732        0.00\n",
       "1733        0.00\n",
       "1734     8950.00\n",
       "1735         NaN\n",
       "1736    58300.00\n",
       "1737        0.00\n",
       "1738        0.00\n",
       "Name: Tuition of High School, Length: 1739, dtype: float64"
      ]
     },
     "execution_count": 9,
     "metadata": {},
     "output_type": "execute_result"
    }
   ],
   "source": [
    "pd.to_numeric(df['Tuition of High School'].str.replace(',',''))"
   ]
  },
  {
   "cell_type": "markdown",
   "metadata": {},
   "source": [
    "That worked! But we didn't actually change the column. Instead, `pandas` just returned a new Series for us (a Series is a column in a pandas DataFrame). Let's replace the column itself:"
   ]
  },
  {
   "cell_type": "code",
   "execution_count": 10,
   "metadata": {},
   "outputs": [
    {
     "data": {
      "text/plain": [
       "count      1695.000000\n",
       "mean      10555.198232\n",
       "std       16650.980438\n",
       "min           0.000000\n",
       "25%           0.000000\n",
       "50%           0.000000\n",
       "75%       20012.500000\n",
       "max      118660.780000\n",
       "Name: Tuition of High School, dtype: float64"
      ]
     },
     "execution_count": 10,
     "metadata": {},
     "output_type": "execute_result"
    }
   ],
   "source": [
    "df['Tuition of High School'] = pd.to_numeric(df['Tuition of High School'].str.replace(',',''))\n",
    "df['Tuition of High School'].describe()"
   ]
  },
  {
   "cell_type": "markdown",
   "metadata": {},
   "source": [
    "Perfect! Now we can use one of `pandas`'s built-in plotting methods (yes, it has a few! they're built on top of `matplotlib`) to see a frequency histogram of this data."
   ]
  },
  {
   "cell_type": "code",
   "execution_count": 12,
   "metadata": {},
   "outputs": [
    {
     "data": {
      "text/plain": [
       "<matplotlib.axes._subplots.AxesSubplot at 0x1124a0f98>"
      ]
     },
     "execution_count": 12,
     "metadata": {},
     "output_type": "execute_result"
    },
    {
     "data": {
      "image/png": "[encoded data removed]",
      "text/plain": [
       "<Figure size 432x288 with 1 Axes>"
      ]
     },
     "metadata": {},
     "output_type": "display_data"
    }
   ],
   "source": [
    "df['Tuition of High School'].hist()"
   ]
  },
  {
   "cell_type": "code",
   "execution_count": 13,
   "metadata": {},
   "outputs": [
    {
     "data": {
      "text/plain": [
       "False    1695\n",
       "True       44\n",
       "Name: Tuition of High School, dtype: int64"
      ]
     },
     "execution_count": 13,
     "metadata": {},
     "output_type": "execute_result"
    }
   ],
   "source": [
    "df['Tuition of High School'].isnull().value_counts()"
   ]
  },
  {
   "cell_type": "markdown",
   "metadata": {},
   "source": [
    "Let's modify this. Let's add:\n",
    "- More bins! I like more granular histograms.\n",
    "- A vertical line for the average tuition."
   ]
  },
  {
   "cell_type": "code",
   "execution_count": 14,
   "metadata": {},
   "outputs": [
    {
     "data": {
      "image/png": "[encoded data removed]",
      "text/plain": [
       "<Figure size 432x288 with 1 Axes>"
      ]
     },
     "metadata": {},
     "output_type": "display_data"
    }
   ],
   "source": [
    "df['Tuition of High School'].hist(bins=20)\n",
    "plt.axvline(df['Tuition of High School'].mean(), \n",
    "            color='yellow', \n",
    "            label=f\"Mean: ${df['Tuition of High School'].mean():,.2f}\")\n",
    "plt.legend()\n",
    "plt.title('Distribution of high school tuitions\\n(Duke University students)')\n",
    "plt.xlabel('USD ($)')\n",
    "plt.ylabel('Frequency')\n",
    "plt.show()"
   ]
  },
  {
   "cell_type": "code",
   "execution_count": 42,
   "metadata": {
    "scrolled": true
   },
   "outputs": [
    {
     "data": {
      "text/plain": [
       "public                1096\n",
       "private                625\n",
       "Data not available      10\n",
       "Home School              8\n",
       "Name: Public or Private High School, dtype: int64"
      ]
     },
     "execution_count": 42,
     "metadata": {},
     "output_type": "execute_result"
    }
   ],
   "source": [
    "# Let's one hot encode (AKA make dummy variables) the public or private high school column\n",
    "df['Public or Private High School'].value_counts()"
   ]
  },
  {
   "cell_type": "code",
   "execution_count": 46,
   "metadata": {
    "scrolled": true
   },
   "outputs": [
    {
     "data": {
      "text/html": [
       "<div>\n",
       "<style scoped>\n",
       "    .dataframe tbody tr th:only-of-type {\n",
       "        vertical-align: middle;\n",
       "    }\n",
       "\n",
       "    .dataframe tbody tr th {\n",
       "        vertical-align: top;\n",
       "    }\n",
       "\n",
       "    .dataframe thead th {\n",
       "        text-align: right;\n",
       "    }\n",
       "</style>\n",
       "<table border=\"1\" class=\"dataframe\">\n",
       "  <thead>\n",
       "    <tr style=\"text-align: right;\">\n",
       "      <th></th>\n",
       "      <th>school_type_Data not available</th>\n",
       "      <th>school_type_Home School</th>\n",
       "      <th>school_type_private</th>\n",
       "      <th>school_type_public</th>\n",
       "    </tr>\n",
       "  </thead>\n",
       "  <tbody>\n",
       "    <tr>\n",
       "      <th>0</th>\n",
       "      <td>0</td>\n",
       "      <td>0</td>\n",
       "      <td>1</td>\n",
       "      <td>0</td>\n",
       "    </tr>\n",
       "    <tr>\n",
       "      <th>1</th>\n",
       "      <td>0</td>\n",
       "      <td>0</td>\n",
       "      <td>0</td>\n",
       "      <td>1</td>\n",
       "    </tr>\n",
       "    <tr>\n",
       "      <th>2</th>\n",
       "      <td>0</td>\n",
       "      <td>0</td>\n",
       "      <td>1</td>\n",
       "      <td>0</td>\n",
       "    </tr>\n",
       "    <tr>\n",
       "      <th>3</th>\n",
       "      <td>0</td>\n",
       "      <td>0</td>\n",
       "      <td>0</td>\n",
       "      <td>1</td>\n",
       "    </tr>\n",
       "    <tr>\n",
       "      <th>4</th>\n",
       "      <td>0</td>\n",
       "      <td>0</td>\n",
       "      <td>1</td>\n",
       "      <td>0</td>\n",
       "    </tr>\n",
       "  </tbody>\n",
       "</table>\n",
       "</div>"
      ],
      "text/plain": [
       "   school_type_Data not available  school_type_Home School  \\\n",
       "0                               0                        0   \n",
       "1                               0                        0   \n",
       "2                               0                        0   \n",
       "3                               0                        0   \n",
       "4                               0                        0   \n",
       "\n",
       "   school_type_private  school_type_public  \n",
       "0                    1                   0  \n",
       "1                    0                   1  \n",
       "2                    1                   0  \n",
       "3                    0                   1  \n",
       "4                    1                   0  "
      ]
     },
     "execution_count": 46,
     "metadata": {},
     "output_type": "execute_result"
    }
   ],
   "source": [
    "school_ohe = pd.get_dummies(df['Public or Private High School'], prefix='school_type')\n",
    "school_ohe.head()"
   ]
  },
  {
   "cell_type": "code",
   "execution_count": 50,
   "metadata": {},
   "outputs": [
    {
     "data": {
      "text/html": [
       "<div>\n",
       "<style scoped>\n",
       "    .dataframe tbody tr th:only-of-type {\n",
       "        vertical-align: middle;\n",
       "    }\n",
       "\n",
       "    .dataframe tbody tr th {\n",
       "        vertical-align: top;\n",
       "    }\n",
       "\n",
       "    .dataframe thead th {\n",
       "        text-align: right;\n",
       "    }\n",
       "</style>\n",
       "<table border=\"1\" class=\"dataframe\">\n",
       "  <thead>\n",
       "    <tr style=\"text-align: right;\">\n",
       "      <th></th>\n",
       "      <th>Greek Council</th>\n",
       "      <th>Greek Organization</th>\n",
       "      <th>Home City</th>\n",
       "      <th>Home State</th>\n",
       "      <th>Home Country</th>\n",
       "      <th>Latitude of Home City</th>\n",
       "      <th>Longitude of Home City</th>\n",
       "      <th>Free and reduced percentage of  High School</th>\n",
       "      <th>Public or Private High School</th>\n",
       "      <th>Domestic or International High School</th>\n",
       "      <th>Boarding/Day High School</th>\n",
       "      <th>Religous High School?</th>\n",
       "      <th>Gender of High School's Students</th>\n",
       "      <th>Tuition of High School</th>\n",
       "      <th>Sports Team</th>\n",
       "      <th>Merit Scholarship</th>\n",
       "      <th>school_type_Data not available</th>\n",
       "      <th>school_type_Home School</th>\n",
       "      <th>school_type_private</th>\n",
       "      <th>school_type_public</th>\n",
       "    </tr>\n",
       "  </thead>\n",
       "  <tbody>\n",
       "    <tr>\n",
       "      <th>0</th>\n",
       "      <td>None</td>\n",
       "      <td>None</td>\n",
       "      <td>Accokeek</td>\n",
       "      <td>Maryland</td>\n",
       "      <td>United States</td>\n",
       "      <td>38.667617</td>\n",
       "      <td>-77.028309</td>\n",
       "      <td>Data not available</td>\n",
       "      <td>private</td>\n",
       "      <td>Domestic</td>\n",
       "      <td>Day</td>\n",
       "      <td>Episcopal</td>\n",
       "      <td>Co-Ed</td>\n",
       "      <td>36610.00</td>\n",
       "      <td>None</td>\n",
       "      <td>None</td>\n",
       "      <td>0</td>\n",
       "      <td>0</td>\n",
       "      <td>1</td>\n",
       "      <td>0</td>\n",
       "    </tr>\n",
       "    <tr>\n",
       "      <th>1</th>\n",
       "      <td>None</td>\n",
       "      <td>None</td>\n",
       "      <td>Advance</td>\n",
       "      <td>North Carolina</td>\n",
       "      <td>United States</td>\n",
       "      <td>35.941248</td>\n",
       "      <td>-80.409222</td>\n",
       "      <td>0.34741523</td>\n",
       "      <td>public</td>\n",
       "      <td>Domestic</td>\n",
       "      <td>Day</td>\n",
       "      <td>Unafilliated</td>\n",
       "      <td>Co-Ed</td>\n",
       "      <td>0.00</td>\n",
       "      <td>Fooball</td>\n",
       "      <td>None</td>\n",
       "      <td>0</td>\n",
       "      <td>0</td>\n",
       "      <td>0</td>\n",
       "      <td>1</td>\n",
       "    </tr>\n",
       "    <tr>\n",
       "      <th>2</th>\n",
       "      <td>None</td>\n",
       "      <td>None</td>\n",
       "      <td>Ajman</td>\n",
       "      <td>NaN</td>\n",
       "      <td>United Arab Emirates</td>\n",
       "      <td>25.509129</td>\n",
       "      <td>55.361907</td>\n",
       "      <td>NaN</td>\n",
       "      <td>private</td>\n",
       "      <td>International</td>\n",
       "      <td>Day</td>\n",
       "      <td>Unafilliated</td>\n",
       "      <td>Co-Ed</td>\n",
       "      <td>13093.46</td>\n",
       "      <td>None</td>\n",
       "      <td>None</td>\n",
       "      <td>0</td>\n",
       "      <td>0</td>\n",
       "      <td>1</td>\n",
       "      <td>0</td>\n",
       "    </tr>\n",
       "    <tr>\n",
       "      <th>3</th>\n",
       "      <td>None</td>\n",
       "      <td>None</td>\n",
       "      <td>Alameda</td>\n",
       "      <td>California</td>\n",
       "      <td>United States</td>\n",
       "      <td>37.609029</td>\n",
       "      <td>-121.899142</td>\n",
       "      <td>0.2268</td>\n",
       "      <td>public</td>\n",
       "      <td>Domestic</td>\n",
       "      <td>Day</td>\n",
       "      <td>Unafilliated</td>\n",
       "      <td>Co-Ed</td>\n",
       "      <td>0.00</td>\n",
       "      <td>None</td>\n",
       "      <td>None</td>\n",
       "      <td>0</td>\n",
       "      <td>0</td>\n",
       "      <td>0</td>\n",
       "      <td>1</td>\n",
       "    </tr>\n",
       "    <tr>\n",
       "      <th>4</th>\n",
       "      <td>None</td>\n",
       "      <td>None</td>\n",
       "      <td>Albuquerque</td>\n",
       "      <td>New Mexico</td>\n",
       "      <td>United States</td>\n",
       "      <td>35.084103</td>\n",
       "      <td>-106.650985</td>\n",
       "      <td>Data not available</td>\n",
       "      <td>private</td>\n",
       "      <td>Domestic</td>\n",
       "      <td>Day</td>\n",
       "      <td>Unafilliated</td>\n",
       "      <td>Co-Ed</td>\n",
       "      <td>22870.00</td>\n",
       "      <td>None</td>\n",
       "      <td>None</td>\n",
       "      <td>0</td>\n",
       "      <td>0</td>\n",
       "      <td>1</td>\n",
       "      <td>0</td>\n",
       "    </tr>\n",
       "  </tbody>\n",
       "</table>\n",
       "</div>"
      ],
      "text/plain": [
       "  Greek Council Greek Organization    Home City      Home State  \\\n",
       "0          None               None     Accokeek        Maryland   \n",
       "1          None               None      Advance  North Carolina   \n",
       "2          None               None        Ajman             NaN   \n",
       "3          None               None      Alameda      California   \n",
       "4          None               None  Albuquerque      New Mexico   \n",
       "\n",
       "           Home Country  Latitude of Home City  Longitude of Home City  \\\n",
       "0         United States              38.667617              -77.028309   \n",
       "1         United States              35.941248              -80.409222   \n",
       "2  United Arab Emirates              25.509129               55.361907   \n",
       "3         United States              37.609029             -121.899142   \n",
       "4         United States              35.084103             -106.650985   \n",
       "\n",
       "  Free and reduced percentage of  High School Public or Private High School  \\\n",
       "0                          Data not available                       private   \n",
       "1                                  0.34741523                        public   \n",
       "2                                         NaN                       private   \n",
       "3                                      0.2268                        public   \n",
       "4                          Data not available                       private   \n",
       "\n",
       "  Domestic or International High School Boarding/Day High School  \\\n",
       "0                              Domestic                      Day   \n",
       "1                              Domestic                      Day   \n",
       "2                         International                      Day   \n",
       "3                              Domestic                      Day   \n",
       "4                              Domestic                      Day   \n",
       "\n",
       "  Religous High School? Gender of High School's Students  \\\n",
       "0             Episcopal                            Co-Ed   \n",
       "1          Unafilliated                            Co-Ed   \n",
       "2          Unafilliated                            Co-Ed   \n",
       "3          Unafilliated                            Co-Ed   \n",
       "4          Unafilliated                            Co-Ed   \n",
       "\n",
       "   Tuition of High School Sports Team Merit Scholarship  \\\n",
       "0                36610.00        None              None   \n",
       "1                    0.00     Fooball              None   \n",
       "2                13093.46        None              None   \n",
       "3                    0.00        None              None   \n",
       "4                22870.00        None              None   \n",
       "\n",
       "   school_type_Data not available  school_type_Home School  \\\n",
       "0                               0                        0   \n",
       "1                               0                        0   \n",
       "2                               0                        0   \n",
       "3                               0                        0   \n",
       "4                               0                        0   \n",
       "\n",
       "   school_type_private  school_type_public  \n",
       "0                    1                   0  \n",
       "1                    0                   1  \n",
       "2                    1                   0  \n",
       "3                    0                   1  \n",
       "4                    1                   0  "
      ]
     },
     "execution_count": 50,
     "metadata": {},
     "output_type": "execute_result"
    }
   ],
   "source": [
    "# Let's add those dummies back into the original dataframe via merge!\n",
    "df = pd.merge(df, school_ohe, left_index=True, right_index=True)\n",
    "df.head()"
   ]
  },
  {
   "cell_type": "code",
   "execution_count": 51,
   "metadata": {},
   "outputs": [
    {
     "data": {
      "text/plain": [
       "Index(['Greek Council', 'Greek Organization', 'Home City', 'Home State',\n",
       "       'Home Country', 'Latitude of Home City', 'Longitude of Home City',\n",
       "       'Free and reduced percentage of  High School',\n",
       "       'Public or Private High School',\n",
       "       'Domestic or International High School', 'Boarding/Day High School',\n",
       "       'Religous High School?', 'Gender of High School's Students',\n",
       "       'Tuition of High School', 'Sports Team', 'Merit Scholarship',\n",
       "       'school_type_Data not available', 'school_type_Home School',\n",
       "       'school_type_private', 'school_type_public'],\n",
       "      dtype='object')"
      ]
     },
     "execution_count": 51,
     "metadata": {},
     "output_type": "execute_result"
    }
   ],
   "source": [
    "# I've forgotten - which columns do we have?\n",
    "df.columns"
   ]
  },
  {
   "cell_type": "code",
   "execution_count": 54,
   "metadata": {},
   "outputs": [
    {
     "data": {
      "text/plain": [
       "None          0.661875\n",
       "Sorority      0.184014\n",
       "Fraternity    0.154112\n",
       "Name: Greek Council, dtype: float64"
      ]
     },
     "execution_count": 54,
     "metadata": {},
     "output_type": "execute_result"
    }
   ],
   "source": [
    "df['Greek Council'].value_counts() / len(df)"
   ]
  },
  {
   "cell_type": "code",
   "execution_count": 73,
   "metadata": {},
   "outputs": [
    {
     "data": {
      "text/html": [
       "<div>\n",
       "<style scoped>\n",
       "    .dataframe tbody tr th:only-of-type {\n",
       "        vertical-align: middle;\n",
       "    }\n",
       "\n",
       "    .dataframe tbody tr th {\n",
       "        vertical-align: top;\n",
       "    }\n",
       "\n",
       "    .dataframe thead th {\n",
       "        text-align: right;\n",
       "    }\n",
       "</style>\n",
       "<table border=\"1\" class=\"dataframe\">\n",
       "  <thead>\n",
       "    <tr style=\"text-align: right;\">\n",
       "      <th></th>\n",
       "      <th>greek_council</th>\n",
       "      <th>greek_organization</th>\n",
       "      <th>home_city</th>\n",
       "      <th>home_state</th>\n",
       "      <th>home_country</th>\n",
       "      <th>latitude_of_home_city</th>\n",
       "      <th>longitude_of_home_city</th>\n",
       "      <th>free_and_reduced_percentage_of__high_school</th>\n",
       "      <th>public_or_private_high_school</th>\n",
       "      <th>domestic_or_international_high_school</th>\n",
       "      <th>boarding/day_high_school</th>\n",
       "      <th>religous_high_school?</th>\n",
       "      <th>gender_of_high_school's_students</th>\n",
       "      <th>tuition_of_high_school</th>\n",
       "      <th>sports_team</th>\n",
       "      <th>merit_scholarship</th>\n",
       "      <th>school_type_data_not_available</th>\n",
       "      <th>school_type_home_school</th>\n",
       "      <th>school_type_private</th>\n",
       "      <th>school_type_public</th>\n",
       "    </tr>\n",
       "  </thead>\n",
       "  <tbody>\n",
       "    <tr>\n",
       "      <th>0</th>\n",
       "      <td>None</td>\n",
       "      <td>None</td>\n",
       "      <td>Accokeek</td>\n",
       "      <td>Maryland</td>\n",
       "      <td>United States</td>\n",
       "      <td>38.667617</td>\n",
       "      <td>-77.028309</td>\n",
       "      <td>Data not available</td>\n",
       "      <td>private</td>\n",
       "      <td>Domestic</td>\n",
       "      <td>Day</td>\n",
       "      <td>Episcopal</td>\n",
       "      <td>Co-Ed</td>\n",
       "      <td>36610.00</td>\n",
       "      <td>None</td>\n",
       "      <td>None</td>\n",
       "      <td>0</td>\n",
       "      <td>0</td>\n",
       "      <td>1</td>\n",
       "      <td>0</td>\n",
       "    </tr>\n",
       "    <tr>\n",
       "      <th>1</th>\n",
       "      <td>None</td>\n",
       "      <td>None</td>\n",
       "      <td>Advance</td>\n",
       "      <td>North Carolina</td>\n",
       "      <td>United States</td>\n",
       "      <td>35.941248</td>\n",
       "      <td>-80.409222</td>\n",
       "      <td>0.34741523</td>\n",
       "      <td>public</td>\n",
       "      <td>Domestic</td>\n",
       "      <td>Day</td>\n",
       "      <td>Unafilliated</td>\n",
       "      <td>Co-Ed</td>\n",
       "      <td>0.00</td>\n",
       "      <td>Fooball</td>\n",
       "      <td>None</td>\n",
       "      <td>0</td>\n",
       "      <td>0</td>\n",
       "      <td>0</td>\n",
       "      <td>1</td>\n",
       "    </tr>\n",
       "    <tr>\n",
       "      <th>2</th>\n",
       "      <td>None</td>\n",
       "      <td>None</td>\n",
       "      <td>Ajman</td>\n",
       "      <td>NaN</td>\n",
       "      <td>United Arab Emirates</td>\n",
       "      <td>25.509129</td>\n",
       "      <td>55.361907</td>\n",
       "      <td>NaN</td>\n",
       "      <td>private</td>\n",
       "      <td>International</td>\n",
       "      <td>Day</td>\n",
       "      <td>Unafilliated</td>\n",
       "      <td>Co-Ed</td>\n",
       "      <td>13093.46</td>\n",
       "      <td>None</td>\n",
       "      <td>None</td>\n",
       "      <td>0</td>\n",
       "      <td>0</td>\n",
       "      <td>1</td>\n",
       "      <td>0</td>\n",
       "    </tr>\n",
       "    <tr>\n",
       "      <th>3</th>\n",
       "      <td>None</td>\n",
       "      <td>None</td>\n",
       "      <td>Alameda</td>\n",
       "      <td>California</td>\n",
       "      <td>United States</td>\n",
       "      <td>37.609029</td>\n",
       "      <td>-121.899142</td>\n",
       "      <td>0.2268</td>\n",
       "      <td>public</td>\n",
       "      <td>Domestic</td>\n",
       "      <td>Day</td>\n",
       "      <td>Unafilliated</td>\n",
       "      <td>Co-Ed</td>\n",
       "      <td>0.00</td>\n",
       "      <td>None</td>\n",
       "      <td>None</td>\n",
       "      <td>0</td>\n",
       "      <td>0</td>\n",
       "      <td>0</td>\n",
       "      <td>1</td>\n",
       "    </tr>\n",
       "    <tr>\n",
       "      <th>4</th>\n",
       "      <td>None</td>\n",
       "      <td>None</td>\n",
       "      <td>Albuquerque</td>\n",
       "      <td>New Mexico</td>\n",
       "      <td>United States</td>\n",
       "      <td>35.084103</td>\n",
       "      <td>-106.650985</td>\n",
       "      <td>Data not available</td>\n",
       "      <td>private</td>\n",
       "      <td>Domestic</td>\n",
       "      <td>Day</td>\n",
       "      <td>Unafilliated</td>\n",
       "      <td>Co-Ed</td>\n",
       "      <td>22870.00</td>\n",
       "      <td>None</td>\n",
       "      <td>None</td>\n",
       "      <td>0</td>\n",
       "      <td>0</td>\n",
       "      <td>1</td>\n",
       "      <td>0</td>\n",
       "    </tr>\n",
       "  </tbody>\n",
       "</table>\n",
       "</div>"
      ],
      "text/plain": [
       "  greek_council greek_organization    home_city      home_state  \\\n",
       "0          None               None     Accokeek        Maryland   \n",
       "1          None               None      Advance  North Carolina   \n",
       "2          None               None        Ajman             NaN   \n",
       "3          None               None      Alameda      California   \n",
       "4          None               None  Albuquerque      New Mexico   \n",
       "\n",
       "           home_country  latitude_of_home_city  longitude_of_home_city  \\\n",
       "0         United States              38.667617              -77.028309   \n",
       "1         United States              35.941248              -80.409222   \n",
       "2  United Arab Emirates              25.509129               55.361907   \n",
       "3         United States              37.609029             -121.899142   \n",
       "4         United States              35.084103             -106.650985   \n",
       "\n",
       "  free_and_reduced_percentage_of__high_school public_or_private_high_school  \\\n",
       "0                          Data not available                       private   \n",
       "1                                  0.34741523                        public   \n",
       "2                                         NaN                       private   \n",
       "3                                      0.2268                        public   \n",
       "4                          Data not available                       private   \n",
       "\n",
       "  domestic_or_international_high_school boarding/day_high_school  \\\n",
       "0                              Domestic                      Day   \n",
       "1                              Domestic                      Day   \n",
       "2                         International                      Day   \n",
       "3                              Domestic                      Day   \n",
       "4                              Domestic                      Day   \n",
       "\n",
       "  religous_high_school? gender_of_high_school's_students  \\\n",
       "0             Episcopal                            Co-Ed   \n",
       "1          Unafilliated                            Co-Ed   \n",
       "2          Unafilliated                            Co-Ed   \n",
       "3          Unafilliated                            Co-Ed   \n",
       "4          Unafilliated                            Co-Ed   \n",
       "\n",
       "   tuition_of_high_school sports_team merit_scholarship  \\\n",
       "0                36610.00        None              None   \n",
       "1                    0.00     Fooball              None   \n",
       "2                13093.46        None              None   \n",
       "3                    0.00        None              None   \n",
       "4                22870.00        None              None   \n",
       "\n",
       "   school_type_data_not_available  school_type_home_school  \\\n",
       "0                               0                        0   \n",
       "1                               0                        0   \n",
       "2                               0                        0   \n",
       "3                               0                        0   \n",
       "4                               0                        0   \n",
       "\n",
       "   school_type_private  school_type_public  \n",
       "0                    1                   0  \n",
       "1                    0                   1  \n",
       "2                    1                   0  \n",
       "3                    0                   1  \n",
       "4                    1                   0  "
      ]
     },
     "execution_count": 73,
     "metadata": {},
     "output_type": "execute_result"
    }
   ],
   "source": [
    "# I don't really like typing out the long Proper English Words as column names,\n",
    "# let's make them lowercase snake_case!\n",
    "for col in df.columns:\n",
    "    df.rename(columns={col: col.lower().replace(' ', '_') }, inplace=True)\n",
    "    \n",
    "# Check to make sure it worked    \n",
    "df.head()"
   ]
  },
  {
   "cell_type": "markdown",
   "metadata": {},
   "source": [
    "### One of the handiest `pandas` methods: `.apply()`\n",
    "\n",
    "`pandas` has lots of built-in things you can do: summing across rows or columns, taking averages, changing the data types, and so on. But sometimes you want to do something specific and a bit more complicated. For example, you want to use multiple columns to calculate a value. In those cases, `.apply()` is helpful.\n",
    "\n",
    "I highly recommend watching the [Data School](http://www.dataschool.io/) tutorial on `.apply()`:"
   ]
  },
  {
   "cell_type": "code",
   "execution_count": 55,
   "metadata": {},
   "outputs": [
    {
     "data": {
      "image/jpeg": "[encoded data removed]",
      "text/html": [
       "\n",
       "        <iframe\n",
       "            width=\"400\"\n",
       "            height=\"300\"\n",
       "            src=\"https://www.youtube.com/embed/P_q0tkYqvSk\"\n",
       "            frameborder=\"0\"\n",
       "            allowfullscreen\n",
       "        ></iframe>\n",
       "        "
      ],
      "text/plain": [
       "<IPython.lib.display.YouTubeVideo at 0x109507c18>"
      ]
     },
     "execution_count": 55,
     "metadata": {},
     "output_type": "execute_result"
    }
   ],
   "source": [
    "from IPython.display import YouTubeVideo\n",
    "YouTubeVideo('P_q0tkYqvSk')"
   ]
  },
  {
   "cell_type": "markdown",
   "metadata": {},
   "source": [
    "I actually had trouble thinking of a good `.apply()` usage with this dataset! So here's a kinda crappy one: let's infer the biological sex of each student observation. We can do this by:\n",
    "1. Assuming that `Fraternity == male` and `Sorority == female`.\n",
    "2. Assuming that, if they aren't a member of a Greek organization, they have a 50% likelihood of being male/female.\n",
    "\n",
    "This will be an imperfect measure, for a bunch of reasons. And we won't correctly assign sex to each observation, we'll just get the right \"averages\" out. \n",
    "\n",
    "Anyway, here's how `.apply()` works! (Side note: We're going to use [`scipy`](https://www.scipy.org/) - another **great data science tool** - to randomly sample from a [Bernoulli distribution](https://en.wikipedia.org/wiki/Bernoulli_trial)."
   ]
  },
  {
   "cell_type": "code",
   "execution_count": 80,
   "metadata": {
    "scrolled": true
   },
   "outputs": [
    {
     "data": {
      "text/plain": [
       "0    0.531915\n",
       "1    0.468085\n",
       "Name: guessed_sex, dtype: float64"
      ]
     },
     "execution_count": 80,
     "metadata": {},
     "output_type": "execute_result"
    }
   ],
   "source": [
    "from scipy.stats import bernoulli\n",
    "\n",
    "# This function will take each row as the input\n",
    "def guessing_sex(row):\n",
    "    \"\"\"Male = 1, female = 0\n",
    "    \"\"\"\n",
    "    if row['greek_council'] == 'Fraternity':\n",
    "        return 1\n",
    "    elif row['greek_council'] == 'Sorority':\n",
    "        return 0\n",
    "    else:\n",
    "        return bernoulli.rvs(p=0.5)\n",
    "    \n",
    "# Applying that function to the dataframe\n",
    "df['guessed_sex'] = df.apply(guessing_sex, axis=1)\n",
    "df['guessed_sex'].value_counts() / len(df)"
   ]
  },
  {
   "cell_type": "code",
   "execution_count": 84,
   "metadata": {},
   "outputs": [
    {
     "name": "stdout",
     "output_type": "stream",
     "text": [
      "\n",
      "Now checking: None\n",
      "0    0.347901\n",
      "1    0.313974\n",
      "Name: guessed_sex, dtype: float64\n",
      "\n",
      "Now checking: Fraternity\n",
      "1    0.154112\n",
      "Name: guessed_sex, dtype: float64\n",
      "\n",
      "Now checking: Sorority\n",
      "0    0.184014\n",
      "Name: guessed_sex, dtype: float64\n"
     ]
    }
   ],
   "source": [
    "# Sanity check\n",
    "for membership in df['greek_council'].unique():\n",
    "    print(f\"\\nNow checking: {membership}\")\n",
    "    print(df[df['greek_council']==membership]['guessed_sex'].value_counts() / len(df))"
   ]
  },
  {
   "cell_type": "markdown",
   "metadata": {},
   "source": [
    "# Onto [statistics and machine learning $\\rightarrow$](2_StatsML.ipynb)"
   ]
  }
 ],
 "metadata": {
  "kernelspec": {
   "display_name": "Python 3",
   "language": "python",
   "name": "python3"
  },
  "language_info": {
   "codemirror_mode": {
    "name": "ipython",
    "version": 3
   },
   "file_extension": ".py",
   "mimetype": "text/x-python",
   "name": "python",
   "nbconvert_exporter": "python",
   "pygments_lexer": "ipython3",
   "version": "3.6.1"
  }
 },
 "nbformat": 4,
 "nbformat_minor": 2
}
